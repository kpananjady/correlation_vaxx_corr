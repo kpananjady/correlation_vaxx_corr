{
 "cells": [
  {
   "cell_type": "markdown",
   "id": "764749fb",
   "metadata": {},
   "source": [
    "# What this file does"
   ]
  },
  {
   "cell_type": "markdown",
   "id": "1d7753cc",
   "metadata": {},
   "source": [
    "Examines correlation between vaxx rate and case rate per 10,000 over previous two weeks on the town level."
   ]
  },
  {
   "cell_type": "code",
   "execution_count": 38,
   "id": "72e03b37",
   "metadata": {},
   "outputs": [
    {
     "name": "stdout",
     "output_type": "stream",
     "text": [
      "Collecting plotly\n",
      "  Downloading plotly-5.2.1-py2.py3-none-any.whl (21.8 MB)\n",
      "\u001b[K     |████████████████████████████████| 21.8 MB 18.1 MB/s eta 0:00:01\n",
      "\u001b[?25hCollecting tenacity>=6.2.0\n",
      "  Downloading tenacity-8.0.1-py3-none-any.whl (24 kB)\n",
      "Requirement already satisfied: six in /opt/anaconda3/lib/python3.8/site-packages (from plotly) (1.15.0)\n",
      "Installing collected packages: tenacity, plotly\n",
      "Successfully installed plotly-5.2.1 tenacity-8.0.1\n"
     ]
    }
   ],
   "source": [
    "#tool setup \n",
    "!pip install plotly"
   ]
  },
  {
   "cell_type": "code",
   "execution_count": 39,
   "id": "fee1679e",
   "metadata": {},
   "outputs": [],
   "source": [
    "#imports\n",
    "import pandas as pd\n",
    "import plotly.express as px"
   ]
  },
  {
   "cell_type": "code",
   "execution_count": 2,
   "id": "e33f3af4",
   "metadata": {},
   "outputs": [
    {
     "name": "stdout",
     "output_type": "stream",
     "text": [
      "COVID-19_Vaccinations_by_Town.csv\r\n",
      "COVID-19_case_rate_per_100_000_population_and_percent_test_positivity_in_the_last_14_days_by_town.csv\r\n",
      "correlation.ipynb\r\n"
     ]
    }
   ],
   "source": [
    "#datasets\n",
    "!ls"
   ]
  },
  {
   "cell_type": "markdown",
   "id": "ce2b61ba",
   "metadata": {},
   "source": [
    "# Vaccinations"
   ]
  },
  {
   "cell_type": "code",
   "execution_count": 8,
   "id": "4c5b1ccf",
   "metadata": {},
   "outputs": [],
   "source": [
    "df_vaxx = pd.read_csv('COVID-19_Vaccinations_by_Town.csv')"
   ]
  },
  {
   "cell_type": "code",
   "execution_count": 52,
   "id": "b35f90f0",
   "metadata": {},
   "outputs": [
    {
     "data": {
      "text/plain": [
       "Timestamp('2021-08-18 00:00:00')"
      ]
     },
     "execution_count": 52,
     "metadata": {},
     "output_type": "execute_result"
    }
   ],
   "source": [
    "df_vaxx['Date Updated'].max()"
   ]
  },
  {
   "cell_type": "code",
   "execution_count": 9,
   "id": "7086f388",
   "metadata": {},
   "outputs": [],
   "source": [
    "df_vaxx['Date Updated'] = pd.to_datetime(df_vaxx['Date Updated'])"
   ]
  },
  {
   "cell_type": "code",
   "execution_count": 14,
   "id": "d5b66ca2",
   "metadata": {},
   "outputs": [],
   "source": [
    "df_vaxx_recent = df_vaxx[df_vaxx['Date Updated'] == df_vaxx['Date Updated'].max()]"
   ]
  },
  {
   "cell_type": "code",
   "execution_count": 29,
   "id": "599db9f3",
   "metadata": {},
   "outputs": [
    {
     "data": {
      "text/plain": [
       "Index(['Town', 'At least one census tract SVI≥0.75', 'Population',\n",
       "       'Initiated Vaccination Count', 'Initiated Vaccination Percent',\n",
       "       'Fully Vaccinated Count', 'Fully Vaccinated Percent', 'Date Updated'],\n",
       "      dtype='object')"
      ]
     },
     "execution_count": 29,
     "metadata": {},
     "output_type": "execute_result"
    }
   ],
   "source": [
    "df_vaxx_recent.columns"
   ]
  },
  {
   "cell_type": "markdown",
   "id": "120df876",
   "metadata": {},
   "source": [
    "# Cases"
   ]
  },
  {
   "cell_type": "code",
   "execution_count": 15,
   "id": "72332aaf",
   "metadata": {},
   "outputs": [],
   "source": [
    "df_cases = pd.read_csv('COVID-19_case_rate_per_100_000_population_and_percent_test_positivity_in_the_last_14_days_by_town.csv')"
   ]
  },
  {
   "cell_type": "code",
   "execution_count": 51,
   "id": "7217cb8c",
   "metadata": {},
   "outputs": [
    {
     "data": {
      "text/plain": [
       "Timestamp('2021-08-18 00:00:00')"
      ]
     },
     "execution_count": 51,
     "metadata": {},
     "output_type": "execute_result"
    }
   ],
   "source": [
    "df_cases['Date Updated'].max()"
   ]
  },
  {
   "cell_type": "code",
   "execution_count": 17,
   "id": "39f4e190",
   "metadata": {},
   "outputs": [],
   "source": [
    "df_cases['Date Updated'] = pd.to_datetime(df_cases['Date Updated'])"
   ]
  },
  {
   "cell_type": "code",
   "execution_count": 18,
   "id": "69d51a39",
   "metadata": {},
   "outputs": [],
   "source": [
    "df_cases_recent = df_cases[df_cases['Date Updated'] == df_cases['Date Updated'].max()]"
   ]
  },
  {
   "cell_type": "code",
   "execution_count": 30,
   "id": "5a456b3d",
   "metadata": {},
   "outputs": [
    {
     "data": {
      "text/plain": [
       "Index(['Town number', 'Town', 'Town population', 'Cases in Week 1',\n",
       "       'Cases in Week 2', 'Total cases over 2-week period',\n",
       "       'COVID-19 cases per 100k population over 2-week period',\n",
       "       'Rate category', 'Total tests', 'Percent test positivity',\n",
       "       'Report period start date', 'Report period end date', 'Update date',\n",
       "       'Date Updated'],\n",
       "      dtype='object')"
      ]
     },
     "execution_count": 30,
     "metadata": {},
     "output_type": "execute_result"
    }
   ],
   "source": [
    "df_cases_recent.columns"
   ]
  },
  {
   "cell_type": "markdown",
   "id": "e77f1617",
   "metadata": {},
   "source": [
    "# Merge"
   ]
  },
  {
   "cell_type": "code",
   "execution_count": 23,
   "id": "b73714e7",
   "metadata": {},
   "outputs": [],
   "source": [
    "df_corr_recent = df_vaxx_recent.merge(df_cases_recent, left_on='Town', right_on='Town')"
   ]
  },
  {
   "cell_type": "code",
   "execution_count": 49,
   "id": "9145fa14",
   "metadata": {},
   "outputs": [],
   "source": [
    "df_corr_recent_final = df_corr_recent[['Town','COVID-19 cases per 100k population over 2-week period','Fully Vaccinated Percent']]\n"
   ]
  },
  {
   "cell_type": "code",
   "execution_count": 43,
   "id": "aab23f13",
   "metadata": {},
   "outputs": [
    {
     "data": {
      "text/html": [
       "<div>\n",
       "<style scoped>\n",
       "    .dataframe tbody tr th:only-of-type {\n",
       "        vertical-align: middle;\n",
       "    }\n",
       "\n",
       "    .dataframe tbody tr th {\n",
       "        vertical-align: top;\n",
       "    }\n",
       "\n",
       "    .dataframe thead th {\n",
       "        text-align: right;\n",
       "    }\n",
       "</style>\n",
       "<table border=\"1\" class=\"dataframe\">\n",
       "  <thead>\n",
       "    <tr style=\"text-align: right;\">\n",
       "      <th></th>\n",
       "      <th>COVID-19 cases per 100k population over 2-week period</th>\n",
       "      <th>Fully Vaccinated Percent</th>\n",
       "    </tr>\n",
       "  </thead>\n",
       "  <tbody>\n",
       "    <tr>\n",
       "      <th>COVID-19 cases per 100k population over 2-week period</th>\n",
       "      <td>1.000000</td>\n",
       "      <td>-0.229546</td>\n",
       "    </tr>\n",
       "    <tr>\n",
       "      <th>Fully Vaccinated Percent</th>\n",
       "      <td>-0.229546</td>\n",
       "      <td>1.000000</td>\n",
       "    </tr>\n",
       "  </tbody>\n",
       "</table>\n",
       "</div>"
      ],
      "text/plain": [
       "                                                    COVID-19 cases per 100k population over 2-week period  \\\n",
       "COVID-19 cases per 100k population over 2-week ...                                           1.000000       \n",
       "Fully Vaccinated Percent                                                                    -0.229546       \n",
       "\n",
       "                                                    Fully Vaccinated Percent  \n",
       "COVID-19 cases per 100k population over 2-week ...                 -0.229546  \n",
       "Fully Vaccinated Percent                                            1.000000  "
      ]
     },
     "execution_count": 43,
     "metadata": {},
     "output_type": "execute_result"
    }
   ],
   "source": [
    "df_corr_recent_final.corr()"
   ]
  },
  {
   "cell_type": "code",
   "execution_count": 44,
   "id": "ccd24219",
   "metadata": {},
   "outputs": [],
   "source": [
    "df_corr_recent_final = df_corr_recent[['Town','COVID-19 cases per 100k population over 2-week period','Initiated Vaccination Percent']]\n"
   ]
  },
  {
   "cell_type": "code",
   "execution_count": 45,
   "id": "007e731f",
   "metadata": {},
   "outputs": [
    {
     "data": {
      "text/html": [
       "<div>\n",
       "<style scoped>\n",
       "    .dataframe tbody tr th:only-of-type {\n",
       "        vertical-align: middle;\n",
       "    }\n",
       "\n",
       "    .dataframe tbody tr th {\n",
       "        vertical-align: top;\n",
       "    }\n",
       "\n",
       "    .dataframe thead th {\n",
       "        text-align: right;\n",
       "    }\n",
       "</style>\n",
       "<table border=\"1\" class=\"dataframe\">\n",
       "  <thead>\n",
       "    <tr style=\"text-align: right;\">\n",
       "      <th></th>\n",
       "      <th>COVID-19 cases per 100k population over 2-week period</th>\n",
       "      <th>Initiated Vaccination Percent</th>\n",
       "    </tr>\n",
       "  </thead>\n",
       "  <tbody>\n",
       "    <tr>\n",
       "      <th>COVID-19 cases per 100k population over 2-week period</th>\n",
       "      <td>1.000000</td>\n",
       "      <td>-0.204421</td>\n",
       "    </tr>\n",
       "    <tr>\n",
       "      <th>Initiated Vaccination Percent</th>\n",
       "      <td>-0.204421</td>\n",
       "      <td>1.000000</td>\n",
       "    </tr>\n",
       "  </tbody>\n",
       "</table>\n",
       "</div>"
      ],
      "text/plain": [
       "                                                    COVID-19 cases per 100k population over 2-week period  \\\n",
       "COVID-19 cases per 100k population over 2-week ...                                           1.000000       \n",
       "Initiated Vaccination Percent                                                               -0.204421       \n",
       "\n",
       "                                                    Initiated Vaccination Percent  \n",
       "COVID-19 cases per 100k population over 2-week ...                      -0.204421  \n",
       "Initiated Vaccination Percent                                            1.000000  "
      ]
     },
     "execution_count": 45,
     "metadata": {},
     "output_type": "execute_result"
    }
   ],
   "source": [
    "df_corr_recent_final.corr()"
   ]
  },
  {
   "cell_type": "markdown",
   "id": "6dd6350b",
   "metadata": {},
   "source": [
    "# Plotly"
   ]
  },
  {
   "cell_type": "code",
   "execution_count": 47,
   "id": "3159fb19",
   "metadata": {},
   "outputs": [
    {
     "data": {
      "application/vnd.plotly.v1+json": {
       "config": {
        "plotlyServerURL": "https://plot.ly"
       },
       "data": [
        {
         "customdata": [
          [
           "Andover"
          ],
          [
           "Ansonia"
          ],
          [
           "Ashford"
          ],
          [
           "Avon"
          ],
          [
           "Avon"
          ],
          [
           "Barkhamsted"
          ],
          [
           "Beacon Falls"
          ],
          [
           "Berlin"
          ],
          [
           "Bethany"
          ],
          [
           "Bethel"
          ],
          [
           "Bethlehem"
          ],
          [
           "Bloomfield"
          ],
          [
           "Bolton"
          ],
          [
           "Bozrah"
          ],
          [
           "Branford"
          ],
          [
           "Bridgeport"
          ],
          [
           "Bristol"
          ],
          [
           "Brookfield"
          ],
          [
           "Brooklyn"
          ],
          [
           "Burlington"
          ],
          [
           "Canterbury"
          ],
          [
           "Canton"
          ],
          [
           "Chaplin"
          ],
          [
           "Chaplin"
          ],
          [
           "Cheshire"
          ],
          [
           "Chester"
          ],
          [
           "Clinton"
          ],
          [
           "Colchester"
          ],
          [
           "Colebrook"
          ],
          [
           "Colebrook"
          ],
          [
           "Columbia"
          ],
          [
           "Columbia"
          ],
          [
           "Cornwall"
          ],
          [
           "Coventry"
          ],
          [
           "Cromwell"
          ],
          [
           "Danbury"
          ],
          [
           "Darien"
          ],
          [
           "Deep River"
          ],
          [
           "Derby"
          ],
          [
           "Durham"
          ],
          [
           "East Granby"
          ],
          [
           "East Haddam"
          ],
          [
           "East Hampton"
          ],
          [
           "East Hartford"
          ],
          [
           "East Haven"
          ],
          [
           "East Lyme"
          ],
          [
           "East Windsor"
          ],
          [
           "Eastford"
          ],
          [
           "Easton"
          ],
          [
           "Ellington"
          ],
          [
           "Enfield"
          ],
          [
           "Essex"
          ],
          [
           "Fairfield"
          ],
          [
           "Farmington"
          ],
          [
           "Franklin"
          ],
          [
           "Glastonbury"
          ],
          [
           "Goshen"
          ],
          [
           "Granby"
          ],
          [
           "Greenwich"
          ],
          [
           "Griswold"
          ],
          [
           "Groton"
          ],
          [
           "Guilford"
          ],
          [
           "Haddam"
          ],
          [
           "Hamden"
          ],
          [
           "Hampton"
          ],
          [
           "Hartford"
          ],
          [
           "Hartland"
          ],
          [
           "Harwinton"
          ],
          [
           "Hebron"
          ],
          [
           "Kent"
          ],
          [
           "Killingly"
          ],
          [
           "Killingworth"
          ],
          [
           "Lebanon"
          ],
          [
           "Ledyard"
          ],
          [
           "Lisbon"
          ],
          [
           "Litchfield"
          ],
          [
           "Lyme"
          ],
          [
           "Madison"
          ],
          [
           "Manchester"
          ],
          [
           "Mansfield"
          ],
          [
           "Marlborough"
          ],
          [
           "Meriden"
          ],
          [
           "Middlebury"
          ],
          [
           "Middlefield"
          ],
          [
           "Middletown"
          ],
          [
           "Milford"
          ],
          [
           "Monroe"
          ],
          [
           "Montville"
          ],
          [
           "Morris"
          ],
          [
           "Naugatuck"
          ],
          [
           "New Britain"
          ],
          [
           "New Canaan"
          ],
          [
           "New Fairfield"
          ],
          [
           "New Hartford"
          ],
          [
           "New Haven"
          ],
          [
           "New London"
          ],
          [
           "New Milford"
          ],
          [
           "Newington"
          ],
          [
           "Newtown"
          ],
          [
           "Norfolk"
          ],
          [
           "North Branford"
          ],
          [
           "North Canaan"
          ],
          [
           "North Haven"
          ],
          [
           "North Stonington"
          ],
          [
           "Norwalk"
          ],
          [
           "Norwich"
          ],
          [
           "Old Lyme"
          ],
          [
           "Old Saybrook"
          ],
          [
           "Orange"
          ],
          [
           "Oxford"
          ],
          [
           "Plainfield"
          ],
          [
           "Plainville"
          ],
          [
           "Plymouth"
          ],
          [
           "Pomfret"
          ],
          [
           "Portland"
          ],
          [
           "Preston"
          ],
          [
           "Prospect"
          ],
          [
           "Putnam"
          ],
          [
           "Redding"
          ],
          [
           "Ridgefield"
          ],
          [
           "Rocky Hill"
          ],
          [
           "Roxbury"
          ],
          [
           "Salem"
          ],
          [
           "Salisbury"
          ],
          [
           "Scotland"
          ],
          [
           "Seymour"
          ],
          [
           "Sharon"
          ],
          [
           "Shelton"
          ],
          [
           "Sherman"
          ],
          [
           "Simsbury"
          ],
          [
           "Somers"
          ],
          [
           "South Windsor"
          ],
          [
           "Southbury"
          ],
          [
           "Southington"
          ],
          [
           "Sprague"
          ],
          [
           "Stafford"
          ],
          [
           "Stamford"
          ],
          [
           "Sterling"
          ],
          [
           "Stonington"
          ],
          [
           "Stratford"
          ],
          [
           "Suffield"
          ],
          [
           "Thomaston"
          ],
          [
           "Thompson"
          ],
          [
           "Tolland"
          ],
          [
           "Torrington"
          ],
          [
           "Trumbull"
          ],
          [
           "Union"
          ],
          [
           "Vernon"
          ],
          [
           "Voluntown"
          ],
          [
           "Wallingford"
          ],
          [
           "Warren"
          ],
          [
           "Washington"
          ],
          [
           "Waterbury"
          ],
          [
           "Waterford"
          ],
          [
           "Watertown"
          ],
          [
           "West Hartford"
          ],
          [
           "West Haven"
          ],
          [
           "Westbrook"
          ],
          [
           "Weston"
          ],
          [
           "Westport"
          ],
          [
           "Wethersfield"
          ],
          [
           "Willington"
          ],
          [
           "Wilton"
          ],
          [
           "Winchester"
          ],
          [
           "Windham"
          ],
          [
           "Windsor"
          ],
          [
           "Windsor Locks"
          ],
          [
           "Wolcott"
          ],
          [
           "Woodbridge"
          ],
          [
           "Woodbury"
          ],
          [
           "Woodstock"
          ]
         ],
         "hovertemplate": "Initiated Vaccination Percent=%{x}<br>COVID-19 cases per 100k population over 2-week period=%{y}<br>Town=%{customdata[0]}<extra></extra>",
         "legendgroup": "",
         "marker": {
          "color": "#636efa",
          "symbol": "circle"
         },
         "mode": "markers",
         "name": "",
         "orientation": "v",
         "showlegend": false,
         "type": "scatter",
         "x": [
          65.45,
          55.91,
          61.72,
          79.97,
          79.97,
          66.69,
          62.62,
          68.04,
          68.26,
          63.69,
          62.58,
          70.31,
          67.77,
          57.12,
          73.24,
          53.63,
          64.16,
          70.72,
          54.97,
          68.3,
          55.5,
          70.29,
          56.9,
          56.9,
          73.78,
          70.07,
          74.68,
          66.8,
          68.71,
          68.71,
          65.68,
          65.68,
          80.91,
          64.8,
          75.94,
          67.47,
          75.6,
          73.64,
          73.63,
          71.56,
          69.77,
          65.94,
          65.88,
          63.78,
          60.72,
          72.96,
          60.47,
          56.54,
          70.78,
          65.15,
          57.47,
          78.01,
          69.45,
          79.06,
          62.76,
          76.52,
          68.95,
          67.3,
          70.19,
          53.11,
          56.49,
          76.75,
          74.81,
          64.23,
          58.69,
          49.55,
          57.12,
          65.41,
          68.47,
          82.86,
          52.28,
          70.9,
          63.14,
          62.64,
          59.81,
          70.25,
          83.51,
          77.83,
          64.23,
          36.22,
          68.89,
          62.55,
          70.99,
          68.34,
          70.74,
          67.61,
          68.74,
          58.13,
          63.89,
          59.88,
          51.4,
          77.11,
          63.69,
          65.94,
          57.7,
          56.92,
          70.1,
          71.34,
          70.45,
          64.91,
          71.7,
          57.15,
          79.15,
          57.33,
          70.84,
          57.75,
          75.57,
          83.29,
          71.95,
          65.6,
          51.65,
          64.25,
          54.78,
          62.84,
          70.85,
          61.54,
          64.79,
          53.46,
          65.82,
          73.03,
          72.56,
          77.23,
          64,
          89,
          53.53,
          63.53,
          67.13,
          67.41,
          62.53,
          74.12,
          58.74,
          74.45,
          72.91,
          69.43,
          54.21,
          53.52,
          73.67,
          44.05,
          68.79,
          62.86,
          64.2,
          60.33,
          45.16,
          69.41,
          63.44,
          74.14,
          60.07,
          67.19,
          58.01,
          71.35,
          67.96,
          78.65,
          53.18,
          71.87,
          66.57,
          77.96,
          61.84,
          73.01,
          74.27,
          73.21,
          75.12,
          58.24,
          76.77,
          57.67,
          53.04,
          70.23,
          62.74,
          63.12,
          77.09,
          68.9,
          60.92
         ],
         "xaxis": "x",
         "y": [
          19.9,
          25.6,
          18.4,
          null,
          25,
          2,
          32.4,
          21.7,
          26.1,
          18.5,
          10.4,
          19.8,
          8.8,
          19.7,
          29.3,
          25.6,
          22.6,
          28.1,
          17.3,
          9.6,
          26.6,
          10.4,
          null,
          25.3,
          13.5,
          10.1,
          41.4,
          17.5,
          25.4,
          5.1,
          19.9,
          15.9,
          5.2,
          25.9,
          18.5,
          30.2,
          25,
          11.2,
          20.5,
          24.8,
          15.3,
          17.5,
          31.7,
          33.6,
          49.8,
          24.9,
          15.7,
          4,
          24.7,
          17.1,
          20.2,
          10.7,
          22.3,
          13.4,
          11.1,
          20.1,
          12.4,
          13.2,
          40.9,
          50.5,
          24.2,
          24.1,
          14.8,
          31.3,
          34.7,
          30.5,
          10.1,
          31.6,
          10.5,
          12.8,
          40.5,
          31.4,
          12.9,
          31.5,
          21.9,
          24.6,
          21.4,
          30,
          22.9,
          27.4,
          18,
          48.5,
          19.4,
          17.9,
          26.9,
          24.8,
          19.8,
          27.5,
          18.9,
          25.1,
          33.3,
          16.6,
          27.8,
          11.8,
          37.1,
          45.6,
          19.9,
          26.6,
          20.1,
          4.4,
          26.2,
          28.5,
          32.9,
          36.8,
          37.8,
          30.1,
          11.6,
          36.8,
          23.6,
          27,
          28.2,
          30,
          21.5,
          8.5,
          13.8,
          29.3,
          24.8,
          23.6,
          7.8,
          17.7,
          26.9,
          43,
          38.1,
          9.9,
          12.7,
          20.3,
          34.4,
          26.2,
          11.9,
          15.4,
          17.1,
          22.5,
          13.4,
          26.7,
          29.7,
          19.2,
          31.7,
          30.2,
          30.2,
          26.8,
          19.1,
          25.5,
          23.6,
          22.4,
          27.5,
          19.6,
          42.5,
          17.3,
          33.8,
          26.3,
          10.2,
          22.9,
          33.6,
          29.5,
          43.9,
          21.2,
          35.9,
          27.9,
          18.1,
          16.5,
          37,
          20.6,
          19.4,
          12.7,
          20.8,
          23.3,
          21.6,
          31.3,
          21.1,
          9,
          20
         ],
         "yaxis": "y"
        }
       ],
       "layout": {
        "legend": {
         "tracegroupgap": 0
        },
        "margin": {
         "t": 60
        },
        "template": {
         "data": {
          "bar": [
           {
            "error_x": {
             "color": "#2a3f5f"
            },
            "error_y": {
             "color": "#2a3f5f"
            },
            "marker": {
             "line": {
              "color": "#E5ECF6",
              "width": 0.5
             },
             "pattern": {
              "fillmode": "overlay",
              "size": 10,
              "solidity": 0.2
             }
            },
            "type": "bar"
           }
          ],
          "barpolar": [
           {
            "marker": {
             "line": {
              "color": "#E5ECF6",
              "width": 0.5
             },
             "pattern": {
              "fillmode": "overlay",
              "size": 10,
              "solidity": 0.2
             }
            },
            "type": "barpolar"
           }
          ],
          "carpet": [
           {
            "aaxis": {
             "endlinecolor": "#2a3f5f",
             "gridcolor": "white",
             "linecolor": "white",
             "minorgridcolor": "white",
             "startlinecolor": "#2a3f5f"
            },
            "baxis": {
             "endlinecolor": "#2a3f5f",
             "gridcolor": "white",
             "linecolor": "white",
             "minorgridcolor": "white",
             "startlinecolor": "#2a3f5f"
            },
            "type": "carpet"
           }
          ],
          "choropleth": [
           {
            "colorbar": {
             "outlinewidth": 0,
             "ticks": ""
            },
            "type": "choropleth"
           }
          ],
          "contour": [
           {
            "colorbar": {
             "outlinewidth": 0,
             "ticks": ""
            },
            "colorscale": [
             [
              0,
              "#0d0887"
             ],
             [
              0.1111111111111111,
              "#46039f"
             ],
             [
              0.2222222222222222,
              "#7201a8"
             ],
             [
              0.3333333333333333,
              "#9c179e"
             ],
             [
              0.4444444444444444,
              "#bd3786"
             ],
             [
              0.5555555555555556,
              "#d8576b"
             ],
             [
              0.6666666666666666,
              "#ed7953"
             ],
             [
              0.7777777777777778,
              "#fb9f3a"
             ],
             [
              0.8888888888888888,
              "#fdca26"
             ],
             [
              1,
              "#f0f921"
             ]
            ],
            "type": "contour"
           }
          ],
          "contourcarpet": [
           {
            "colorbar": {
             "outlinewidth": 0,
             "ticks": ""
            },
            "type": "contourcarpet"
           }
          ],
          "heatmap": [
           {
            "colorbar": {
             "outlinewidth": 0,
             "ticks": ""
            },
            "colorscale": [
             [
              0,
              "#0d0887"
             ],
             [
              0.1111111111111111,
              "#46039f"
             ],
             [
              0.2222222222222222,
              "#7201a8"
             ],
             [
              0.3333333333333333,
              "#9c179e"
             ],
             [
              0.4444444444444444,
              "#bd3786"
             ],
             [
              0.5555555555555556,
              "#d8576b"
             ],
             [
              0.6666666666666666,
              "#ed7953"
             ],
             [
              0.7777777777777778,
              "#fb9f3a"
             ],
             [
              0.8888888888888888,
              "#fdca26"
             ],
             [
              1,
              "#f0f921"
             ]
            ],
            "type": "heatmap"
           }
          ],
          "heatmapgl": [
           {
            "colorbar": {
             "outlinewidth": 0,
             "ticks": ""
            },
            "colorscale": [
             [
              0,
              "#0d0887"
             ],
             [
              0.1111111111111111,
              "#46039f"
             ],
             [
              0.2222222222222222,
              "#7201a8"
             ],
             [
              0.3333333333333333,
              "#9c179e"
             ],
             [
              0.4444444444444444,
              "#bd3786"
             ],
             [
              0.5555555555555556,
              "#d8576b"
             ],
             [
              0.6666666666666666,
              "#ed7953"
             ],
             [
              0.7777777777777778,
              "#fb9f3a"
             ],
             [
              0.8888888888888888,
              "#fdca26"
             ],
             [
              1,
              "#f0f921"
             ]
            ],
            "type": "heatmapgl"
           }
          ],
          "histogram": [
           {
            "marker": {
             "pattern": {
              "fillmode": "overlay",
              "size": 10,
              "solidity": 0.2
             }
            },
            "type": "histogram"
           }
          ],
          "histogram2d": [
           {
            "colorbar": {
             "outlinewidth": 0,
             "ticks": ""
            },
            "colorscale": [
             [
              0,
              "#0d0887"
             ],
             [
              0.1111111111111111,
              "#46039f"
             ],
             [
              0.2222222222222222,
              "#7201a8"
             ],
             [
              0.3333333333333333,
              "#9c179e"
             ],
             [
              0.4444444444444444,
              "#bd3786"
             ],
             [
              0.5555555555555556,
              "#d8576b"
             ],
             [
              0.6666666666666666,
              "#ed7953"
             ],
             [
              0.7777777777777778,
              "#fb9f3a"
             ],
             [
              0.8888888888888888,
              "#fdca26"
             ],
             [
              1,
              "#f0f921"
             ]
            ],
            "type": "histogram2d"
           }
          ],
          "histogram2dcontour": [
           {
            "colorbar": {
             "outlinewidth": 0,
             "ticks": ""
            },
            "colorscale": [
             [
              0,
              "#0d0887"
             ],
             [
              0.1111111111111111,
              "#46039f"
             ],
             [
              0.2222222222222222,
              "#7201a8"
             ],
             [
              0.3333333333333333,
              "#9c179e"
             ],
             [
              0.4444444444444444,
              "#bd3786"
             ],
             [
              0.5555555555555556,
              "#d8576b"
             ],
             [
              0.6666666666666666,
              "#ed7953"
             ],
             [
              0.7777777777777778,
              "#fb9f3a"
             ],
             [
              0.8888888888888888,
              "#fdca26"
             ],
             [
              1,
              "#f0f921"
             ]
            ],
            "type": "histogram2dcontour"
           }
          ],
          "mesh3d": [
           {
            "colorbar": {
             "outlinewidth": 0,
             "ticks": ""
            },
            "type": "mesh3d"
           }
          ],
          "parcoords": [
           {
            "line": {
             "colorbar": {
              "outlinewidth": 0,
              "ticks": ""
             }
            },
            "type": "parcoords"
           }
          ],
          "pie": [
           {
            "automargin": true,
            "type": "pie"
           }
          ],
          "scatter": [
           {
            "marker": {
             "colorbar": {
              "outlinewidth": 0,
              "ticks": ""
             }
            },
            "type": "scatter"
           }
          ],
          "scatter3d": [
           {
            "line": {
             "colorbar": {
              "outlinewidth": 0,
              "ticks": ""
             }
            },
            "marker": {
             "colorbar": {
              "outlinewidth": 0,
              "ticks": ""
             }
            },
            "type": "scatter3d"
           }
          ],
          "scattercarpet": [
           {
            "marker": {
             "colorbar": {
              "outlinewidth": 0,
              "ticks": ""
             }
            },
            "type": "scattercarpet"
           }
          ],
          "scattergeo": [
           {
            "marker": {
             "colorbar": {
              "outlinewidth": 0,
              "ticks": ""
             }
            },
            "type": "scattergeo"
           }
          ],
          "scattergl": [
           {
            "marker": {
             "colorbar": {
              "outlinewidth": 0,
              "ticks": ""
             }
            },
            "type": "scattergl"
           }
          ],
          "scattermapbox": [
           {
            "marker": {
             "colorbar": {
              "outlinewidth": 0,
              "ticks": ""
             }
            },
            "type": "scattermapbox"
           }
          ],
          "scatterpolar": [
           {
            "marker": {
             "colorbar": {
              "outlinewidth": 0,
              "ticks": ""
             }
            },
            "type": "scatterpolar"
           }
          ],
          "scatterpolargl": [
           {
            "marker": {
             "colorbar": {
              "outlinewidth": 0,
              "ticks": ""
             }
            },
            "type": "scatterpolargl"
           }
          ],
          "scatterternary": [
           {
            "marker": {
             "colorbar": {
              "outlinewidth": 0,
              "ticks": ""
             }
            },
            "type": "scatterternary"
           }
          ],
          "surface": [
           {
            "colorbar": {
             "outlinewidth": 0,
             "ticks": ""
            },
            "colorscale": [
             [
              0,
              "#0d0887"
             ],
             [
              0.1111111111111111,
              "#46039f"
             ],
             [
              0.2222222222222222,
              "#7201a8"
             ],
             [
              0.3333333333333333,
              "#9c179e"
             ],
             [
              0.4444444444444444,
              "#bd3786"
             ],
             [
              0.5555555555555556,
              "#d8576b"
             ],
             [
              0.6666666666666666,
              "#ed7953"
             ],
             [
              0.7777777777777778,
              "#fb9f3a"
             ],
             [
              0.8888888888888888,
              "#fdca26"
             ],
             [
              1,
              "#f0f921"
             ]
            ],
            "type": "surface"
           }
          ],
          "table": [
           {
            "cells": {
             "fill": {
              "color": "#EBF0F8"
             },
             "line": {
              "color": "white"
             }
            },
            "header": {
             "fill": {
              "color": "#C8D4E3"
             },
             "line": {
              "color": "white"
             }
            },
            "type": "table"
           }
          ]
         },
         "layout": {
          "annotationdefaults": {
           "arrowcolor": "#2a3f5f",
           "arrowhead": 0,
           "arrowwidth": 1
          },
          "autotypenumbers": "strict",
          "coloraxis": {
           "colorbar": {
            "outlinewidth": 0,
            "ticks": ""
           }
          },
          "colorscale": {
           "diverging": [
            [
             0,
             "#8e0152"
            ],
            [
             0.1,
             "#c51b7d"
            ],
            [
             0.2,
             "#de77ae"
            ],
            [
             0.3,
             "#f1b6da"
            ],
            [
             0.4,
             "#fde0ef"
            ],
            [
             0.5,
             "#f7f7f7"
            ],
            [
             0.6,
             "#e6f5d0"
            ],
            [
             0.7,
             "#b8e186"
            ],
            [
             0.8,
             "#7fbc41"
            ],
            [
             0.9,
             "#4d9221"
            ],
            [
             1,
             "#276419"
            ]
           ],
           "sequential": [
            [
             0,
             "#0d0887"
            ],
            [
             0.1111111111111111,
             "#46039f"
            ],
            [
             0.2222222222222222,
             "#7201a8"
            ],
            [
             0.3333333333333333,
             "#9c179e"
            ],
            [
             0.4444444444444444,
             "#bd3786"
            ],
            [
             0.5555555555555556,
             "#d8576b"
            ],
            [
             0.6666666666666666,
             "#ed7953"
            ],
            [
             0.7777777777777778,
             "#fb9f3a"
            ],
            [
             0.8888888888888888,
             "#fdca26"
            ],
            [
             1,
             "#f0f921"
            ]
           ],
           "sequentialminus": [
            [
             0,
             "#0d0887"
            ],
            [
             0.1111111111111111,
             "#46039f"
            ],
            [
             0.2222222222222222,
             "#7201a8"
            ],
            [
             0.3333333333333333,
             "#9c179e"
            ],
            [
             0.4444444444444444,
             "#bd3786"
            ],
            [
             0.5555555555555556,
             "#d8576b"
            ],
            [
             0.6666666666666666,
             "#ed7953"
            ],
            [
             0.7777777777777778,
             "#fb9f3a"
            ],
            [
             0.8888888888888888,
             "#fdca26"
            ],
            [
             1,
             "#f0f921"
            ]
           ]
          },
          "colorway": [
           "#636efa",
           "#EF553B",
           "#00cc96",
           "#ab63fa",
           "#FFA15A",
           "#19d3f3",
           "#FF6692",
           "#B6E880",
           "#FF97FF",
           "#FECB52"
          ],
          "font": {
           "color": "#2a3f5f"
          },
          "geo": {
           "bgcolor": "white",
           "lakecolor": "white",
           "landcolor": "#E5ECF6",
           "showlakes": true,
           "showland": true,
           "subunitcolor": "white"
          },
          "hoverlabel": {
           "align": "left"
          },
          "hovermode": "closest",
          "mapbox": {
           "style": "light"
          },
          "paper_bgcolor": "white",
          "plot_bgcolor": "#E5ECF6",
          "polar": {
           "angularaxis": {
            "gridcolor": "white",
            "linecolor": "white",
            "ticks": ""
           },
           "bgcolor": "#E5ECF6",
           "radialaxis": {
            "gridcolor": "white",
            "linecolor": "white",
            "ticks": ""
           }
          },
          "scene": {
           "xaxis": {
            "backgroundcolor": "#E5ECF6",
            "gridcolor": "white",
            "gridwidth": 2,
            "linecolor": "white",
            "showbackground": true,
            "ticks": "",
            "zerolinecolor": "white"
           },
           "yaxis": {
            "backgroundcolor": "#E5ECF6",
            "gridcolor": "white",
            "gridwidth": 2,
            "linecolor": "white",
            "showbackground": true,
            "ticks": "",
            "zerolinecolor": "white"
           },
           "zaxis": {
            "backgroundcolor": "#E5ECF6",
            "gridcolor": "white",
            "gridwidth": 2,
            "linecolor": "white",
            "showbackground": true,
            "ticks": "",
            "zerolinecolor": "white"
           }
          },
          "shapedefaults": {
           "line": {
            "color": "#2a3f5f"
           }
          },
          "ternary": {
           "aaxis": {
            "gridcolor": "white",
            "linecolor": "white",
            "ticks": ""
           },
           "baxis": {
            "gridcolor": "white",
            "linecolor": "white",
            "ticks": ""
           },
           "bgcolor": "#E5ECF6",
           "caxis": {
            "gridcolor": "white",
            "linecolor": "white",
            "ticks": ""
           }
          },
          "title": {
           "x": 0.05
          },
          "xaxis": {
           "automargin": true,
           "gridcolor": "white",
           "linecolor": "white",
           "ticks": "",
           "title": {
            "standoff": 15
           },
           "zerolinecolor": "white",
           "zerolinewidth": 2
          },
          "yaxis": {
           "automargin": true,
           "gridcolor": "white",
           "linecolor": "white",
           "ticks": "",
           "title": {
            "standoff": 15
           },
           "zerolinecolor": "white",
           "zerolinewidth": 2
          }
         }
        },
        "xaxis": {
         "anchor": "y",
         "domain": [
          0,
          1
         ],
         "title": {
          "text": "Initiated Vaccination Percent"
         }
        },
        "yaxis": {
         "anchor": "x",
         "domain": [
          0,
          1
         ],
         "title": {
          "text": "COVID-19 cases per 100k population over 2-week period"
         }
        }
       }
      },
      "text/html": [
       "<div>                            <div id=\"c50ffde1-5a0b-4d07-8644-68ff3a2144a1\" class=\"plotly-graph-div\" style=\"height:525px; width:100%;\"></div>            <script type=\"text/javascript\">                require([\"plotly\"], function(Plotly) {                    window.PLOTLYENV=window.PLOTLYENV || {};                                    if (document.getElementById(\"c50ffde1-5a0b-4d07-8644-68ff3a2144a1\")) {                    Plotly.newPlot(                        \"c50ffde1-5a0b-4d07-8644-68ff3a2144a1\",                        [{\"customdata\":[[\"Andover\"],[\"Ansonia\"],[\"Ashford\"],[\"Avon\"],[\"Avon\"],[\"Barkhamsted\"],[\"Beacon Falls\"],[\"Berlin\"],[\"Bethany\"],[\"Bethel\"],[\"Bethlehem\"],[\"Bloomfield\"],[\"Bolton\"],[\"Bozrah\"],[\"Branford\"],[\"Bridgeport\"],[\"Bristol\"],[\"Brookfield\"],[\"Brooklyn\"],[\"Burlington\"],[\"Canterbury\"],[\"Canton\"],[\"Chaplin\"],[\"Chaplin\"],[\"Cheshire\"],[\"Chester\"],[\"Clinton\"],[\"Colchester\"],[\"Colebrook\"],[\"Colebrook\"],[\"Columbia\"],[\"Columbia\"],[\"Cornwall\"],[\"Coventry\"],[\"Cromwell\"],[\"Danbury\"],[\"Darien\"],[\"Deep River\"],[\"Derby\"],[\"Durham\"],[\"East Granby\"],[\"East Haddam\"],[\"East Hampton\"],[\"East Hartford\"],[\"East Haven\"],[\"East Lyme\"],[\"East Windsor\"],[\"Eastford\"],[\"Easton\"],[\"Ellington\"],[\"Enfield\"],[\"Essex\"],[\"Fairfield\"],[\"Farmington\"],[\"Franklin\"],[\"Glastonbury\"],[\"Goshen\"],[\"Granby\"],[\"Greenwich\"],[\"Griswold\"],[\"Groton\"],[\"Guilford\"],[\"Haddam\"],[\"Hamden\"],[\"Hampton\"],[\"Hartford\"],[\"Hartland\"],[\"Harwinton\"],[\"Hebron\"],[\"Kent\"],[\"Killingly\"],[\"Killingworth\"],[\"Lebanon\"],[\"Ledyard\"],[\"Lisbon\"],[\"Litchfield\"],[\"Lyme\"],[\"Madison\"],[\"Manchester\"],[\"Mansfield\"],[\"Marlborough\"],[\"Meriden\"],[\"Middlebury\"],[\"Middlefield\"],[\"Middletown\"],[\"Milford\"],[\"Monroe\"],[\"Montville\"],[\"Morris\"],[\"Naugatuck\"],[\"New Britain\"],[\"New Canaan\"],[\"New Fairfield\"],[\"New Hartford\"],[\"New Haven\"],[\"New London\"],[\"New Milford\"],[\"Newington\"],[\"Newtown\"],[\"Norfolk\"],[\"North Branford\"],[\"North Canaan\"],[\"North Haven\"],[\"North Stonington\"],[\"Norwalk\"],[\"Norwich\"],[\"Old Lyme\"],[\"Old Saybrook\"],[\"Orange\"],[\"Oxford\"],[\"Plainfield\"],[\"Plainville\"],[\"Plymouth\"],[\"Pomfret\"],[\"Portland\"],[\"Preston\"],[\"Prospect\"],[\"Putnam\"],[\"Redding\"],[\"Ridgefield\"],[\"Rocky Hill\"],[\"Roxbury\"],[\"Salem\"],[\"Salisbury\"],[\"Scotland\"],[\"Seymour\"],[\"Sharon\"],[\"Shelton\"],[\"Sherman\"],[\"Simsbury\"],[\"Somers\"],[\"South Windsor\"],[\"Southbury\"],[\"Southington\"],[\"Sprague\"],[\"Stafford\"],[\"Stamford\"],[\"Sterling\"],[\"Stonington\"],[\"Stratford\"],[\"Suffield\"],[\"Thomaston\"],[\"Thompson\"],[\"Tolland\"],[\"Torrington\"],[\"Trumbull\"],[\"Union\"],[\"Vernon\"],[\"Voluntown\"],[\"Wallingford\"],[\"Warren\"],[\"Washington\"],[\"Waterbury\"],[\"Waterford\"],[\"Watertown\"],[\"West Hartford\"],[\"West Haven\"],[\"Westbrook\"],[\"Weston\"],[\"Westport\"],[\"Wethersfield\"],[\"Willington\"],[\"Wilton\"],[\"Winchester\"],[\"Windham\"],[\"Windsor\"],[\"Windsor Locks\"],[\"Wolcott\"],[\"Woodbridge\"],[\"Woodbury\"],[\"Woodstock\"]],\"hovertemplate\":\"Initiated Vaccination Percent=%{x}<br>COVID-19 cases per 100k population over 2-week period=%{y}<br>Town=%{customdata[0]}<extra></extra>\",\"legendgroup\":\"\",\"marker\":{\"color\":\"#636efa\",\"symbol\":\"circle\"},\"mode\":\"markers\",\"name\":\"\",\"orientation\":\"v\",\"showlegend\":false,\"type\":\"scatter\",\"x\":[65.45,55.91,61.72,79.97,79.97,66.69,62.62,68.04,68.26,63.69,62.58,70.31,67.77,57.12,73.24,53.63,64.16,70.72,54.97,68.3,55.5,70.29,56.9,56.9,73.78,70.07,74.68,66.8,68.71,68.71,65.68,65.68,80.91,64.8,75.94,67.47,75.6,73.64,73.63,71.56,69.77,65.94,65.88,63.78,60.72,72.96,60.47,56.54,70.78,65.15,57.47,78.01,69.45,79.06,62.76,76.52,68.95,67.3,70.19,53.11,56.49,76.75,74.81,64.23,58.69,49.55,57.12,65.41,68.47,82.86,52.28,70.9,63.14,62.64,59.81,70.25,83.51,77.83,64.23,36.22,68.89,62.55,70.99,68.34,70.74,67.61,68.74,58.13,63.89,59.88,51.4,77.11,63.69,65.94,57.7,56.92,70.1,71.34,70.45,64.91,71.7,57.15,79.15,57.33,70.84,57.75,75.57,83.29,71.95,65.6,51.65,64.25,54.78,62.84,70.85,61.54,64.79,53.46,65.82,73.03,72.56,77.23,64.0,89.0,53.53,63.53,67.13,67.41,62.53,74.12,58.74,74.45,72.91,69.43,54.21,53.52,73.67,44.05,68.79,62.86,64.2,60.33,45.16,69.41,63.44,74.14,60.07,67.19,58.01,71.35,67.96,78.65,53.18,71.87,66.57,77.96,61.84,73.01,74.27,73.21,75.12,58.24,76.77,57.67,53.04,70.23,62.74,63.12,77.09,68.9,60.92],\"xaxis\":\"x\",\"y\":[19.9,25.6,18.4,null,25.0,2.0,32.4,21.7,26.1,18.5,10.4,19.8,8.8,19.7,29.3,25.6,22.6,28.1,17.3,9.6,26.6,10.4,null,25.3,13.5,10.1,41.4,17.5,25.4,5.1,19.9,15.9,5.2,25.9,18.5,30.2,25.0,11.2,20.5,24.8,15.3,17.5,31.7,33.6,49.8,24.9,15.7,4.0,24.7,17.1,20.2,10.7,22.3,13.4,11.1,20.1,12.4,13.2,40.9,50.5,24.2,24.1,14.8,31.3,34.7,30.5,10.1,31.6,10.5,12.8,40.5,31.4,12.9,31.5,21.9,24.6,21.4,30.0,22.9,27.4,18.0,48.5,19.4,17.9,26.9,24.8,19.8,27.5,18.9,25.1,33.3,16.6,27.8,11.8,37.1,45.6,19.9,26.6,20.1,4.4,26.2,28.5,32.9,36.8,37.8,30.1,11.6,36.8,23.6,27.0,28.2,30.0,21.5,8.5,13.8,29.3,24.8,23.6,7.8,17.7,26.9,43.0,38.1,9.9,12.7,20.3,34.4,26.2,11.9,15.4,17.1,22.5,13.4,26.7,29.7,19.2,31.7,30.2,30.2,26.8,19.1,25.5,23.6,22.4,27.5,19.6,42.5,17.3,33.8,26.3,10.2,22.9,33.6,29.5,43.9,21.2,35.9,27.9,18.1,16.5,37.0,20.6,19.4,12.7,20.8,23.3,21.6,31.3,21.1,9.0,20.0],\"yaxis\":\"y\"}],                        {\"legend\":{\"tracegroupgap\":0},\"margin\":{\"t\":60},\"template\":{\"data\":{\"bar\":[{\"error_x\":{\"color\":\"#2a3f5f\"},\"error_y\":{\"color\":\"#2a3f5f\"},\"marker\":{\"line\":{\"color\":\"#E5ECF6\",\"width\":0.5},\"pattern\":{\"fillmode\":\"overlay\",\"size\":10,\"solidity\":0.2}},\"type\":\"bar\"}],\"barpolar\":[{\"marker\":{\"line\":{\"color\":\"#E5ECF6\",\"width\":0.5},\"pattern\":{\"fillmode\":\"overlay\",\"size\":10,\"solidity\":0.2}},\"type\":\"barpolar\"}],\"carpet\":[{\"aaxis\":{\"endlinecolor\":\"#2a3f5f\",\"gridcolor\":\"white\",\"linecolor\":\"white\",\"minorgridcolor\":\"white\",\"startlinecolor\":\"#2a3f5f\"},\"baxis\":{\"endlinecolor\":\"#2a3f5f\",\"gridcolor\":\"white\",\"linecolor\":\"white\",\"minorgridcolor\":\"white\",\"startlinecolor\":\"#2a3f5f\"},\"type\":\"carpet\"}],\"choropleth\":[{\"colorbar\":{\"outlinewidth\":0,\"ticks\":\"\"},\"type\":\"choropleth\"}],\"contour\":[{\"colorbar\":{\"outlinewidth\":0,\"ticks\":\"\"},\"colorscale\":[[0.0,\"#0d0887\"],[0.1111111111111111,\"#46039f\"],[0.2222222222222222,\"#7201a8\"],[0.3333333333333333,\"#9c179e\"],[0.4444444444444444,\"#bd3786\"],[0.5555555555555556,\"#d8576b\"],[0.6666666666666666,\"#ed7953\"],[0.7777777777777778,\"#fb9f3a\"],[0.8888888888888888,\"#fdca26\"],[1.0,\"#f0f921\"]],\"type\":\"contour\"}],\"contourcarpet\":[{\"colorbar\":{\"outlinewidth\":0,\"ticks\":\"\"},\"type\":\"contourcarpet\"}],\"heatmap\":[{\"colorbar\":{\"outlinewidth\":0,\"ticks\":\"\"},\"colorscale\":[[0.0,\"#0d0887\"],[0.1111111111111111,\"#46039f\"],[0.2222222222222222,\"#7201a8\"],[0.3333333333333333,\"#9c179e\"],[0.4444444444444444,\"#bd3786\"],[0.5555555555555556,\"#d8576b\"],[0.6666666666666666,\"#ed7953\"],[0.7777777777777778,\"#fb9f3a\"],[0.8888888888888888,\"#fdca26\"],[1.0,\"#f0f921\"]],\"type\":\"heatmap\"}],\"heatmapgl\":[{\"colorbar\":{\"outlinewidth\":0,\"ticks\":\"\"},\"colorscale\":[[0.0,\"#0d0887\"],[0.1111111111111111,\"#46039f\"],[0.2222222222222222,\"#7201a8\"],[0.3333333333333333,\"#9c179e\"],[0.4444444444444444,\"#bd3786\"],[0.5555555555555556,\"#d8576b\"],[0.6666666666666666,\"#ed7953\"],[0.7777777777777778,\"#fb9f3a\"],[0.8888888888888888,\"#fdca26\"],[1.0,\"#f0f921\"]],\"type\":\"heatmapgl\"}],\"histogram\":[{\"marker\":{\"pattern\":{\"fillmode\":\"overlay\",\"size\":10,\"solidity\":0.2}},\"type\":\"histogram\"}],\"histogram2d\":[{\"colorbar\":{\"outlinewidth\":0,\"ticks\":\"\"},\"colorscale\":[[0.0,\"#0d0887\"],[0.1111111111111111,\"#46039f\"],[0.2222222222222222,\"#7201a8\"],[0.3333333333333333,\"#9c179e\"],[0.4444444444444444,\"#bd3786\"],[0.5555555555555556,\"#d8576b\"],[0.6666666666666666,\"#ed7953\"],[0.7777777777777778,\"#fb9f3a\"],[0.8888888888888888,\"#fdca26\"],[1.0,\"#f0f921\"]],\"type\":\"histogram2d\"}],\"histogram2dcontour\":[{\"colorbar\":{\"outlinewidth\":0,\"ticks\":\"\"},\"colorscale\":[[0.0,\"#0d0887\"],[0.1111111111111111,\"#46039f\"],[0.2222222222222222,\"#7201a8\"],[0.3333333333333333,\"#9c179e\"],[0.4444444444444444,\"#bd3786\"],[0.5555555555555556,\"#d8576b\"],[0.6666666666666666,\"#ed7953\"],[0.7777777777777778,\"#fb9f3a\"],[0.8888888888888888,\"#fdca26\"],[1.0,\"#f0f921\"]],\"type\":\"histogram2dcontour\"}],\"mesh3d\":[{\"colorbar\":{\"outlinewidth\":0,\"ticks\":\"\"},\"type\":\"mesh3d\"}],\"parcoords\":[{\"line\":{\"colorbar\":{\"outlinewidth\":0,\"ticks\":\"\"}},\"type\":\"parcoords\"}],\"pie\":[{\"automargin\":true,\"type\":\"pie\"}],\"scatter\":[{\"marker\":{\"colorbar\":{\"outlinewidth\":0,\"ticks\":\"\"}},\"type\":\"scatter\"}],\"scatter3d\":[{\"line\":{\"colorbar\":{\"outlinewidth\":0,\"ticks\":\"\"}},\"marker\":{\"colorbar\":{\"outlinewidth\":0,\"ticks\":\"\"}},\"type\":\"scatter3d\"}],\"scattercarpet\":[{\"marker\":{\"colorbar\":{\"outlinewidth\":0,\"ticks\":\"\"}},\"type\":\"scattercarpet\"}],\"scattergeo\":[{\"marker\":{\"colorbar\":{\"outlinewidth\":0,\"ticks\":\"\"}},\"type\":\"scattergeo\"}],\"scattergl\":[{\"marker\":{\"colorbar\":{\"outlinewidth\":0,\"ticks\":\"\"}},\"type\":\"scattergl\"}],\"scattermapbox\":[{\"marker\":{\"colorbar\":{\"outlinewidth\":0,\"ticks\":\"\"}},\"type\":\"scattermapbox\"}],\"scatterpolar\":[{\"marker\":{\"colorbar\":{\"outlinewidth\":0,\"ticks\":\"\"}},\"type\":\"scatterpolar\"}],\"scatterpolargl\":[{\"marker\":{\"colorbar\":{\"outlinewidth\":0,\"ticks\":\"\"}},\"type\":\"scatterpolargl\"}],\"scatterternary\":[{\"marker\":{\"colorbar\":{\"outlinewidth\":0,\"ticks\":\"\"}},\"type\":\"scatterternary\"}],\"surface\":[{\"colorbar\":{\"outlinewidth\":0,\"ticks\":\"\"},\"colorscale\":[[0.0,\"#0d0887\"],[0.1111111111111111,\"#46039f\"],[0.2222222222222222,\"#7201a8\"],[0.3333333333333333,\"#9c179e\"],[0.4444444444444444,\"#bd3786\"],[0.5555555555555556,\"#d8576b\"],[0.6666666666666666,\"#ed7953\"],[0.7777777777777778,\"#fb9f3a\"],[0.8888888888888888,\"#fdca26\"],[1.0,\"#f0f921\"]],\"type\":\"surface\"}],\"table\":[{\"cells\":{\"fill\":{\"color\":\"#EBF0F8\"},\"line\":{\"color\":\"white\"}},\"header\":{\"fill\":{\"color\":\"#C8D4E3\"},\"line\":{\"color\":\"white\"}},\"type\":\"table\"}]},\"layout\":{\"annotationdefaults\":{\"arrowcolor\":\"#2a3f5f\",\"arrowhead\":0,\"arrowwidth\":1},\"autotypenumbers\":\"strict\",\"coloraxis\":{\"colorbar\":{\"outlinewidth\":0,\"ticks\":\"\"}},\"colorscale\":{\"diverging\":[[0,\"#8e0152\"],[0.1,\"#c51b7d\"],[0.2,\"#de77ae\"],[0.3,\"#f1b6da\"],[0.4,\"#fde0ef\"],[0.5,\"#f7f7f7\"],[0.6,\"#e6f5d0\"],[0.7,\"#b8e186\"],[0.8,\"#7fbc41\"],[0.9,\"#4d9221\"],[1,\"#276419\"]],\"sequential\":[[0.0,\"#0d0887\"],[0.1111111111111111,\"#46039f\"],[0.2222222222222222,\"#7201a8\"],[0.3333333333333333,\"#9c179e\"],[0.4444444444444444,\"#bd3786\"],[0.5555555555555556,\"#d8576b\"],[0.6666666666666666,\"#ed7953\"],[0.7777777777777778,\"#fb9f3a\"],[0.8888888888888888,\"#fdca26\"],[1.0,\"#f0f921\"]],\"sequentialminus\":[[0.0,\"#0d0887\"],[0.1111111111111111,\"#46039f\"],[0.2222222222222222,\"#7201a8\"],[0.3333333333333333,\"#9c179e\"],[0.4444444444444444,\"#bd3786\"],[0.5555555555555556,\"#d8576b\"],[0.6666666666666666,\"#ed7953\"],[0.7777777777777778,\"#fb9f3a\"],[0.8888888888888888,\"#fdca26\"],[1.0,\"#f0f921\"]]},\"colorway\":[\"#636efa\",\"#EF553B\",\"#00cc96\",\"#ab63fa\",\"#FFA15A\",\"#19d3f3\",\"#FF6692\",\"#B6E880\",\"#FF97FF\",\"#FECB52\"],\"font\":{\"color\":\"#2a3f5f\"},\"geo\":{\"bgcolor\":\"white\",\"lakecolor\":\"white\",\"landcolor\":\"#E5ECF6\",\"showlakes\":true,\"showland\":true,\"subunitcolor\":\"white\"},\"hoverlabel\":{\"align\":\"left\"},\"hovermode\":\"closest\",\"mapbox\":{\"style\":\"light\"},\"paper_bgcolor\":\"white\",\"plot_bgcolor\":\"#E5ECF6\",\"polar\":{\"angularaxis\":{\"gridcolor\":\"white\",\"linecolor\":\"white\",\"ticks\":\"\"},\"bgcolor\":\"#E5ECF6\",\"radialaxis\":{\"gridcolor\":\"white\",\"linecolor\":\"white\",\"ticks\":\"\"}},\"scene\":{\"xaxis\":{\"backgroundcolor\":\"#E5ECF6\",\"gridcolor\":\"white\",\"gridwidth\":2,\"linecolor\":\"white\",\"showbackground\":true,\"ticks\":\"\",\"zerolinecolor\":\"white\"},\"yaxis\":{\"backgroundcolor\":\"#E5ECF6\",\"gridcolor\":\"white\",\"gridwidth\":2,\"linecolor\":\"white\",\"showbackground\":true,\"ticks\":\"\",\"zerolinecolor\":\"white\"},\"zaxis\":{\"backgroundcolor\":\"#E5ECF6\",\"gridcolor\":\"white\",\"gridwidth\":2,\"linecolor\":\"white\",\"showbackground\":true,\"ticks\":\"\",\"zerolinecolor\":\"white\"}},\"shapedefaults\":{\"line\":{\"color\":\"#2a3f5f\"}},\"ternary\":{\"aaxis\":{\"gridcolor\":\"white\",\"linecolor\":\"white\",\"ticks\":\"\"},\"baxis\":{\"gridcolor\":\"white\",\"linecolor\":\"white\",\"ticks\":\"\"},\"bgcolor\":\"#E5ECF6\",\"caxis\":{\"gridcolor\":\"white\",\"linecolor\":\"white\",\"ticks\":\"\"}},\"title\":{\"x\":0.05},\"xaxis\":{\"automargin\":true,\"gridcolor\":\"white\",\"linecolor\":\"white\",\"ticks\":\"\",\"title\":{\"standoff\":15},\"zerolinecolor\":\"white\",\"zerolinewidth\":2},\"yaxis\":{\"automargin\":true,\"gridcolor\":\"white\",\"linecolor\":\"white\",\"ticks\":\"\",\"title\":{\"standoff\":15},\"zerolinecolor\":\"white\",\"zerolinewidth\":2}}},\"xaxis\":{\"anchor\":\"y\",\"domain\":[0.0,1.0],\"title\":{\"text\":\"Initiated Vaccination Percent\"}},\"yaxis\":{\"anchor\":\"x\",\"domain\":[0.0,1.0],\"title\":{\"text\":\"COVID-19 cases per 100k population over 2-week period\"}}},                        {\"responsive\": true}                    ).then(function(){\n",
       "                            \n",
       "var gd = document.getElementById('c50ffde1-5a0b-4d07-8644-68ff3a2144a1');\n",
       "var x = new MutationObserver(function (mutations, observer) {{\n",
       "        var display = window.getComputedStyle(gd).display;\n",
       "        if (!display || display === 'none') {{\n",
       "            console.log([gd, 'removed!']);\n",
       "            Plotly.purge(gd);\n",
       "            observer.disconnect();\n",
       "        }}\n",
       "}});\n",
       "\n",
       "// Listen for the removal of the full notebook cells\n",
       "var notebookContainer = gd.closest('#notebook-container');\n",
       "if (notebookContainer) {{\n",
       "    x.observe(notebookContainer, {childList: true});\n",
       "}}\n",
       "\n",
       "// Listen for the clearing of the current output cell\n",
       "var outputEl = gd.closest('.output');\n",
       "if (outputEl) {{\n",
       "    x.observe(outputEl, {childList: true});\n",
       "}}\n",
       "\n",
       "                        })                };                });            </script>        </div>"
      ]
     },
     "metadata": {},
     "output_type": "display_data"
    }
   ],
   "source": [
    "fig = px.scatter(df_corr_recent_final, x=\"Initiated Vaccination Percent\", y=\"COVID-19 cases per 100k population over 2-week period\", hover_data=['Town'])\n",
    "fig.show()"
   ]
  },
  {
   "cell_type": "code",
   "execution_count": 50,
   "id": "3b784fa1",
   "metadata": {},
   "outputs": [
    {
     "data": {
      "application/vnd.plotly.v1+json": {
       "config": {
        "plotlyServerURL": "https://plot.ly"
       },
       "data": [
        {
         "customdata": [
          [
           "Andover"
          ],
          [
           "Ansonia"
          ],
          [
           "Ashford"
          ],
          [
           "Avon"
          ],
          [
           "Avon"
          ],
          [
           "Barkhamsted"
          ],
          [
           "Beacon Falls"
          ],
          [
           "Berlin"
          ],
          [
           "Bethany"
          ],
          [
           "Bethel"
          ],
          [
           "Bethlehem"
          ],
          [
           "Bloomfield"
          ],
          [
           "Bolton"
          ],
          [
           "Bozrah"
          ],
          [
           "Branford"
          ],
          [
           "Bridgeport"
          ],
          [
           "Bristol"
          ],
          [
           "Brookfield"
          ],
          [
           "Brooklyn"
          ],
          [
           "Burlington"
          ],
          [
           "Canterbury"
          ],
          [
           "Canton"
          ],
          [
           "Chaplin"
          ],
          [
           "Chaplin"
          ],
          [
           "Cheshire"
          ],
          [
           "Chester"
          ],
          [
           "Clinton"
          ],
          [
           "Colchester"
          ],
          [
           "Colebrook"
          ],
          [
           "Colebrook"
          ],
          [
           "Columbia"
          ],
          [
           "Columbia"
          ],
          [
           "Cornwall"
          ],
          [
           "Coventry"
          ],
          [
           "Cromwell"
          ],
          [
           "Danbury"
          ],
          [
           "Darien"
          ],
          [
           "Deep River"
          ],
          [
           "Derby"
          ],
          [
           "Durham"
          ],
          [
           "East Granby"
          ],
          [
           "East Haddam"
          ],
          [
           "East Hampton"
          ],
          [
           "East Hartford"
          ],
          [
           "East Haven"
          ],
          [
           "East Lyme"
          ],
          [
           "East Windsor"
          ],
          [
           "Eastford"
          ],
          [
           "Easton"
          ],
          [
           "Ellington"
          ],
          [
           "Enfield"
          ],
          [
           "Essex"
          ],
          [
           "Fairfield"
          ],
          [
           "Farmington"
          ],
          [
           "Franklin"
          ],
          [
           "Glastonbury"
          ],
          [
           "Goshen"
          ],
          [
           "Granby"
          ],
          [
           "Greenwich"
          ],
          [
           "Griswold"
          ],
          [
           "Groton"
          ],
          [
           "Guilford"
          ],
          [
           "Haddam"
          ],
          [
           "Hamden"
          ],
          [
           "Hampton"
          ],
          [
           "Hartford"
          ],
          [
           "Hartland"
          ],
          [
           "Harwinton"
          ],
          [
           "Hebron"
          ],
          [
           "Kent"
          ],
          [
           "Killingly"
          ],
          [
           "Killingworth"
          ],
          [
           "Lebanon"
          ],
          [
           "Ledyard"
          ],
          [
           "Lisbon"
          ],
          [
           "Litchfield"
          ],
          [
           "Lyme"
          ],
          [
           "Madison"
          ],
          [
           "Manchester"
          ],
          [
           "Mansfield"
          ],
          [
           "Marlborough"
          ],
          [
           "Meriden"
          ],
          [
           "Middlebury"
          ],
          [
           "Middlefield"
          ],
          [
           "Middletown"
          ],
          [
           "Milford"
          ],
          [
           "Monroe"
          ],
          [
           "Montville"
          ],
          [
           "Morris"
          ],
          [
           "Naugatuck"
          ],
          [
           "New Britain"
          ],
          [
           "New Canaan"
          ],
          [
           "New Fairfield"
          ],
          [
           "New Hartford"
          ],
          [
           "New Haven"
          ],
          [
           "New London"
          ],
          [
           "New Milford"
          ],
          [
           "Newington"
          ],
          [
           "Newtown"
          ],
          [
           "Norfolk"
          ],
          [
           "North Branford"
          ],
          [
           "North Canaan"
          ],
          [
           "North Haven"
          ],
          [
           "North Stonington"
          ],
          [
           "Norwalk"
          ],
          [
           "Norwich"
          ],
          [
           "Old Lyme"
          ],
          [
           "Old Saybrook"
          ],
          [
           "Orange"
          ],
          [
           "Oxford"
          ],
          [
           "Plainfield"
          ],
          [
           "Plainville"
          ],
          [
           "Plymouth"
          ],
          [
           "Pomfret"
          ],
          [
           "Portland"
          ],
          [
           "Preston"
          ],
          [
           "Prospect"
          ],
          [
           "Putnam"
          ],
          [
           "Redding"
          ],
          [
           "Ridgefield"
          ],
          [
           "Rocky Hill"
          ],
          [
           "Roxbury"
          ],
          [
           "Salem"
          ],
          [
           "Salisbury"
          ],
          [
           "Scotland"
          ],
          [
           "Seymour"
          ],
          [
           "Sharon"
          ],
          [
           "Shelton"
          ],
          [
           "Sherman"
          ],
          [
           "Simsbury"
          ],
          [
           "Somers"
          ],
          [
           "South Windsor"
          ],
          [
           "Southbury"
          ],
          [
           "Southington"
          ],
          [
           "Sprague"
          ],
          [
           "Stafford"
          ],
          [
           "Stamford"
          ],
          [
           "Sterling"
          ],
          [
           "Stonington"
          ],
          [
           "Stratford"
          ],
          [
           "Suffield"
          ],
          [
           "Thomaston"
          ],
          [
           "Thompson"
          ],
          [
           "Tolland"
          ],
          [
           "Torrington"
          ],
          [
           "Trumbull"
          ],
          [
           "Union"
          ],
          [
           "Vernon"
          ],
          [
           "Voluntown"
          ],
          [
           "Wallingford"
          ],
          [
           "Warren"
          ],
          [
           "Washington"
          ],
          [
           "Waterbury"
          ],
          [
           "Waterford"
          ],
          [
           "Watertown"
          ],
          [
           "West Hartford"
          ],
          [
           "West Haven"
          ],
          [
           "Westbrook"
          ],
          [
           "Weston"
          ],
          [
           "Westport"
          ],
          [
           "Wethersfield"
          ],
          [
           "Willington"
          ],
          [
           "Wilton"
          ],
          [
           "Winchester"
          ],
          [
           "Windham"
          ],
          [
           "Windsor"
          ],
          [
           "Windsor Locks"
          ],
          [
           "Wolcott"
          ],
          [
           "Woodbridge"
          ],
          [
           "Woodbury"
          ],
          [
           "Woodstock"
          ]
         ],
         "hovertemplate": "Fully Vaccinated Percent=%{x}<br>COVID-19 cases per 100k population over 2-week period=%{y}<br>Town=%{customdata[0]}<extra></extra>",
         "legendgroup": "",
         "marker": {
          "color": "#636efa",
          "symbol": "circle"
         },
         "mode": "markers",
         "name": "",
         "orientation": "v",
         "showlegend": false,
         "type": "scatter",
         "x": [
          62.36,
          50.17,
          58.82,
          75.53,
          75.53,
          63.2,
          58.95,
          64.8,
          64.85,
          58.78,
          58.52,
          64.14,
          64.64,
          54.84,
          69.34,
          46.72,
          58.93,
          66.02,
          50.6,
          64.71,
          52,
          66.81,
          53.06,
          53.06,
          70.04,
          66.27,
          70.14,
          62.78,
          64.07,
          64.07,
          62.47,
          62.47,
          76.51,
          61.59,
          71.8,
          59.42,
          69.71,
          68.96,
          63.58,
          67.63,
          66.25,
          58.94,
          62.18,
          56.74,
          56.11,
          68.94,
          54.88,
          53.18,
          66.91,
          61.18,
          53.4,
          73.73,
          65.1,
          74.68,
          59.11,
          72.43,
          64.34,
          64.1,
          64.83,
          49.67,
          52.75,
          72.99,
          70.29,
          59.96,
          55.16,
          42.54,
          53.16,
          61.77,
          65.03,
          76.38,
          48.7,
          67.55,
          59.85,
          59.13,
          56.18,
          65.23,
          80.4,
          74.07,
          59.25,
          34.17,
          65.51,
          56.97,
          67.15,
          64.95,
          65.65,
          64.06,
          64.28,
          54.28,
          59.63,
          54.85,
          46.22,
          70.63,
          59.32,
          62.53,
          51.95,
          51.55,
          65.29,
          67.43,
          66.16,
          60.86,
          67.84,
          52.41,
          74.69,
          54.58,
          64.09,
          52.94,
          71.79,
          78.8,
          68.17,
          61.71,
          47.89,
          59.9,
          50.97,
          58.67,
          66.56,
          58.25,
          61.17,
          49.79,
          62.26,
          68.83,
          68.56,
          72.07,
          59.91,
          83.67,
          50.18,
          58.52,
          62.29,
          62.8,
          58.82,
          70.19,
          55.04,
          70.6,
          68.87,
          65.97,
          50.37,
          50.14,
          65.52,
          40.56,
          65.59,
          57.86,
          59.3,
          56.75,
          42.25,
          66.18,
          58.69,
          69.37,
          56.97,
          62.74,
          54.66,
          67.24,
          64.16,
          72.55,
          46.97,
          68.06,
          62.27,
          73.23,
          56.71,
          68.38,
          69.85,
          68.43,
          70.94,
          55.06,
          72.01,
          53.18,
          48.61,
          64.97,
          58.58,
          58.97,
          73.07,
          65.32,
          57.3
         ],
         "xaxis": "x",
         "y": [
          19.9,
          25.6,
          18.4,
          null,
          25,
          2,
          32.4,
          21.7,
          26.1,
          18.5,
          10.4,
          19.8,
          8.8,
          19.7,
          29.3,
          25.6,
          22.6,
          28.1,
          17.3,
          9.6,
          26.6,
          10.4,
          null,
          25.3,
          13.5,
          10.1,
          41.4,
          17.5,
          25.4,
          5.1,
          19.9,
          15.9,
          5.2,
          25.9,
          18.5,
          30.2,
          25,
          11.2,
          20.5,
          24.8,
          15.3,
          17.5,
          31.7,
          33.6,
          49.8,
          24.9,
          15.7,
          4,
          24.7,
          17.1,
          20.2,
          10.7,
          22.3,
          13.4,
          11.1,
          20.1,
          12.4,
          13.2,
          40.9,
          50.5,
          24.2,
          24.1,
          14.8,
          31.3,
          34.7,
          30.5,
          10.1,
          31.6,
          10.5,
          12.8,
          40.5,
          31.4,
          12.9,
          31.5,
          21.9,
          24.6,
          21.4,
          30,
          22.9,
          27.4,
          18,
          48.5,
          19.4,
          17.9,
          26.9,
          24.8,
          19.8,
          27.5,
          18.9,
          25.1,
          33.3,
          16.6,
          27.8,
          11.8,
          37.1,
          45.6,
          19.9,
          26.6,
          20.1,
          4.4,
          26.2,
          28.5,
          32.9,
          36.8,
          37.8,
          30.1,
          11.6,
          36.8,
          23.6,
          27,
          28.2,
          30,
          21.5,
          8.5,
          13.8,
          29.3,
          24.8,
          23.6,
          7.8,
          17.7,
          26.9,
          43,
          38.1,
          9.9,
          12.7,
          20.3,
          34.4,
          26.2,
          11.9,
          15.4,
          17.1,
          22.5,
          13.4,
          26.7,
          29.7,
          19.2,
          31.7,
          30.2,
          30.2,
          26.8,
          19.1,
          25.5,
          23.6,
          22.4,
          27.5,
          19.6,
          42.5,
          17.3,
          33.8,
          26.3,
          10.2,
          22.9,
          33.6,
          29.5,
          43.9,
          21.2,
          35.9,
          27.9,
          18.1,
          16.5,
          37,
          20.6,
          19.4,
          12.7,
          20.8,
          23.3,
          21.6,
          31.3,
          21.1,
          9,
          20
         ],
         "yaxis": "y"
        }
       ],
       "layout": {
        "legend": {
         "tracegroupgap": 0
        },
        "margin": {
         "t": 60
        },
        "template": {
         "data": {
          "bar": [
           {
            "error_x": {
             "color": "#2a3f5f"
            },
            "error_y": {
             "color": "#2a3f5f"
            },
            "marker": {
             "line": {
              "color": "#E5ECF6",
              "width": 0.5
             },
             "pattern": {
              "fillmode": "overlay",
              "size": 10,
              "solidity": 0.2
             }
            },
            "type": "bar"
           }
          ],
          "barpolar": [
           {
            "marker": {
             "line": {
              "color": "#E5ECF6",
              "width": 0.5
             },
             "pattern": {
              "fillmode": "overlay",
              "size": 10,
              "solidity": 0.2
             }
            },
            "type": "barpolar"
           }
          ],
          "carpet": [
           {
            "aaxis": {
             "endlinecolor": "#2a3f5f",
             "gridcolor": "white",
             "linecolor": "white",
             "minorgridcolor": "white",
             "startlinecolor": "#2a3f5f"
            },
            "baxis": {
             "endlinecolor": "#2a3f5f",
             "gridcolor": "white",
             "linecolor": "white",
             "minorgridcolor": "white",
             "startlinecolor": "#2a3f5f"
            },
            "type": "carpet"
           }
          ],
          "choropleth": [
           {
            "colorbar": {
             "outlinewidth": 0,
             "ticks": ""
            },
            "type": "choropleth"
           }
          ],
          "contour": [
           {
            "colorbar": {
             "outlinewidth": 0,
             "ticks": ""
            },
            "colorscale": [
             [
              0,
              "#0d0887"
             ],
             [
              0.1111111111111111,
              "#46039f"
             ],
             [
              0.2222222222222222,
              "#7201a8"
             ],
             [
              0.3333333333333333,
              "#9c179e"
             ],
             [
              0.4444444444444444,
              "#bd3786"
             ],
             [
              0.5555555555555556,
              "#d8576b"
             ],
             [
              0.6666666666666666,
              "#ed7953"
             ],
             [
              0.7777777777777778,
              "#fb9f3a"
             ],
             [
              0.8888888888888888,
              "#fdca26"
             ],
             [
              1,
              "#f0f921"
             ]
            ],
            "type": "contour"
           }
          ],
          "contourcarpet": [
           {
            "colorbar": {
             "outlinewidth": 0,
             "ticks": ""
            },
            "type": "contourcarpet"
           }
          ],
          "heatmap": [
           {
            "colorbar": {
             "outlinewidth": 0,
             "ticks": ""
            },
            "colorscale": [
             [
              0,
              "#0d0887"
             ],
             [
              0.1111111111111111,
              "#46039f"
             ],
             [
              0.2222222222222222,
              "#7201a8"
             ],
             [
              0.3333333333333333,
              "#9c179e"
             ],
             [
              0.4444444444444444,
              "#bd3786"
             ],
             [
              0.5555555555555556,
              "#d8576b"
             ],
             [
              0.6666666666666666,
              "#ed7953"
             ],
             [
              0.7777777777777778,
              "#fb9f3a"
             ],
             [
              0.8888888888888888,
              "#fdca26"
             ],
             [
              1,
              "#f0f921"
             ]
            ],
            "type": "heatmap"
           }
          ],
          "heatmapgl": [
           {
            "colorbar": {
             "outlinewidth": 0,
             "ticks": ""
            },
            "colorscale": [
             [
              0,
              "#0d0887"
             ],
             [
              0.1111111111111111,
              "#46039f"
             ],
             [
              0.2222222222222222,
              "#7201a8"
             ],
             [
              0.3333333333333333,
              "#9c179e"
             ],
             [
              0.4444444444444444,
              "#bd3786"
             ],
             [
              0.5555555555555556,
              "#d8576b"
             ],
             [
              0.6666666666666666,
              "#ed7953"
             ],
             [
              0.7777777777777778,
              "#fb9f3a"
             ],
             [
              0.8888888888888888,
              "#fdca26"
             ],
             [
              1,
              "#f0f921"
             ]
            ],
            "type": "heatmapgl"
           }
          ],
          "histogram": [
           {
            "marker": {
             "pattern": {
              "fillmode": "overlay",
              "size": 10,
              "solidity": 0.2
             }
            },
            "type": "histogram"
           }
          ],
          "histogram2d": [
           {
            "colorbar": {
             "outlinewidth": 0,
             "ticks": ""
            },
            "colorscale": [
             [
              0,
              "#0d0887"
             ],
             [
              0.1111111111111111,
              "#46039f"
             ],
             [
              0.2222222222222222,
              "#7201a8"
             ],
             [
              0.3333333333333333,
              "#9c179e"
             ],
             [
              0.4444444444444444,
              "#bd3786"
             ],
             [
              0.5555555555555556,
              "#d8576b"
             ],
             [
              0.6666666666666666,
              "#ed7953"
             ],
             [
              0.7777777777777778,
              "#fb9f3a"
             ],
             [
              0.8888888888888888,
              "#fdca26"
             ],
             [
              1,
              "#f0f921"
             ]
            ],
            "type": "histogram2d"
           }
          ],
          "histogram2dcontour": [
           {
            "colorbar": {
             "outlinewidth": 0,
             "ticks": ""
            },
            "colorscale": [
             [
              0,
              "#0d0887"
             ],
             [
              0.1111111111111111,
              "#46039f"
             ],
             [
              0.2222222222222222,
              "#7201a8"
             ],
             [
              0.3333333333333333,
              "#9c179e"
             ],
             [
              0.4444444444444444,
              "#bd3786"
             ],
             [
              0.5555555555555556,
              "#d8576b"
             ],
             [
              0.6666666666666666,
              "#ed7953"
             ],
             [
              0.7777777777777778,
              "#fb9f3a"
             ],
             [
              0.8888888888888888,
              "#fdca26"
             ],
             [
              1,
              "#f0f921"
             ]
            ],
            "type": "histogram2dcontour"
           }
          ],
          "mesh3d": [
           {
            "colorbar": {
             "outlinewidth": 0,
             "ticks": ""
            },
            "type": "mesh3d"
           }
          ],
          "parcoords": [
           {
            "line": {
             "colorbar": {
              "outlinewidth": 0,
              "ticks": ""
             }
            },
            "type": "parcoords"
           }
          ],
          "pie": [
           {
            "automargin": true,
            "type": "pie"
           }
          ],
          "scatter": [
           {
            "marker": {
             "colorbar": {
              "outlinewidth": 0,
              "ticks": ""
             }
            },
            "type": "scatter"
           }
          ],
          "scatter3d": [
           {
            "line": {
             "colorbar": {
              "outlinewidth": 0,
              "ticks": ""
             }
            },
            "marker": {
             "colorbar": {
              "outlinewidth": 0,
              "ticks": ""
             }
            },
            "type": "scatter3d"
           }
          ],
          "scattercarpet": [
           {
            "marker": {
             "colorbar": {
              "outlinewidth": 0,
              "ticks": ""
             }
            },
            "type": "scattercarpet"
           }
          ],
          "scattergeo": [
           {
            "marker": {
             "colorbar": {
              "outlinewidth": 0,
              "ticks": ""
             }
            },
            "type": "scattergeo"
           }
          ],
          "scattergl": [
           {
            "marker": {
             "colorbar": {
              "outlinewidth": 0,
              "ticks": ""
             }
            },
            "type": "scattergl"
           }
          ],
          "scattermapbox": [
           {
            "marker": {
             "colorbar": {
              "outlinewidth": 0,
              "ticks": ""
             }
            },
            "type": "scattermapbox"
           }
          ],
          "scatterpolar": [
           {
            "marker": {
             "colorbar": {
              "outlinewidth": 0,
              "ticks": ""
             }
            },
            "type": "scatterpolar"
           }
          ],
          "scatterpolargl": [
           {
            "marker": {
             "colorbar": {
              "outlinewidth": 0,
              "ticks": ""
             }
            },
            "type": "scatterpolargl"
           }
          ],
          "scatterternary": [
           {
            "marker": {
             "colorbar": {
              "outlinewidth": 0,
              "ticks": ""
             }
            },
            "type": "scatterternary"
           }
          ],
          "surface": [
           {
            "colorbar": {
             "outlinewidth": 0,
             "ticks": ""
            },
            "colorscale": [
             [
              0,
              "#0d0887"
             ],
             [
              0.1111111111111111,
              "#46039f"
             ],
             [
              0.2222222222222222,
              "#7201a8"
             ],
             [
              0.3333333333333333,
              "#9c179e"
             ],
             [
              0.4444444444444444,
              "#bd3786"
             ],
             [
              0.5555555555555556,
              "#d8576b"
             ],
             [
              0.6666666666666666,
              "#ed7953"
             ],
             [
              0.7777777777777778,
              "#fb9f3a"
             ],
             [
              0.8888888888888888,
              "#fdca26"
             ],
             [
              1,
              "#f0f921"
             ]
            ],
            "type": "surface"
           }
          ],
          "table": [
           {
            "cells": {
             "fill": {
              "color": "#EBF0F8"
             },
             "line": {
              "color": "white"
             }
            },
            "header": {
             "fill": {
              "color": "#C8D4E3"
             },
             "line": {
              "color": "white"
             }
            },
            "type": "table"
           }
          ]
         },
         "layout": {
          "annotationdefaults": {
           "arrowcolor": "#2a3f5f",
           "arrowhead": 0,
           "arrowwidth": 1
          },
          "autotypenumbers": "strict",
          "coloraxis": {
           "colorbar": {
            "outlinewidth": 0,
            "ticks": ""
           }
          },
          "colorscale": {
           "diverging": [
            [
             0,
             "#8e0152"
            ],
            [
             0.1,
             "#c51b7d"
            ],
            [
             0.2,
             "#de77ae"
            ],
            [
             0.3,
             "#f1b6da"
            ],
            [
             0.4,
             "#fde0ef"
            ],
            [
             0.5,
             "#f7f7f7"
            ],
            [
             0.6,
             "#e6f5d0"
            ],
            [
             0.7,
             "#b8e186"
            ],
            [
             0.8,
             "#7fbc41"
            ],
            [
             0.9,
             "#4d9221"
            ],
            [
             1,
             "#276419"
            ]
           ],
           "sequential": [
            [
             0,
             "#0d0887"
            ],
            [
             0.1111111111111111,
             "#46039f"
            ],
            [
             0.2222222222222222,
             "#7201a8"
            ],
            [
             0.3333333333333333,
             "#9c179e"
            ],
            [
             0.4444444444444444,
             "#bd3786"
            ],
            [
             0.5555555555555556,
             "#d8576b"
            ],
            [
             0.6666666666666666,
             "#ed7953"
            ],
            [
             0.7777777777777778,
             "#fb9f3a"
            ],
            [
             0.8888888888888888,
             "#fdca26"
            ],
            [
             1,
             "#f0f921"
            ]
           ],
           "sequentialminus": [
            [
             0,
             "#0d0887"
            ],
            [
             0.1111111111111111,
             "#46039f"
            ],
            [
             0.2222222222222222,
             "#7201a8"
            ],
            [
             0.3333333333333333,
             "#9c179e"
            ],
            [
             0.4444444444444444,
             "#bd3786"
            ],
            [
             0.5555555555555556,
             "#d8576b"
            ],
            [
             0.6666666666666666,
             "#ed7953"
            ],
            [
             0.7777777777777778,
             "#fb9f3a"
            ],
            [
             0.8888888888888888,
             "#fdca26"
            ],
            [
             1,
             "#f0f921"
            ]
           ]
          },
          "colorway": [
           "#636efa",
           "#EF553B",
           "#00cc96",
           "#ab63fa",
           "#FFA15A",
           "#19d3f3",
           "#FF6692",
           "#B6E880",
           "#FF97FF",
           "#FECB52"
          ],
          "font": {
           "color": "#2a3f5f"
          },
          "geo": {
           "bgcolor": "white",
           "lakecolor": "white",
           "landcolor": "#E5ECF6",
           "showlakes": true,
           "showland": true,
           "subunitcolor": "white"
          },
          "hoverlabel": {
           "align": "left"
          },
          "hovermode": "closest",
          "mapbox": {
           "style": "light"
          },
          "paper_bgcolor": "white",
          "plot_bgcolor": "#E5ECF6",
          "polar": {
           "angularaxis": {
            "gridcolor": "white",
            "linecolor": "white",
            "ticks": ""
           },
           "bgcolor": "#E5ECF6",
           "radialaxis": {
            "gridcolor": "white",
            "linecolor": "white",
            "ticks": ""
           }
          },
          "scene": {
           "xaxis": {
            "backgroundcolor": "#E5ECF6",
            "gridcolor": "white",
            "gridwidth": 2,
            "linecolor": "white",
            "showbackground": true,
            "ticks": "",
            "zerolinecolor": "white"
           },
           "yaxis": {
            "backgroundcolor": "#E5ECF6",
            "gridcolor": "white",
            "gridwidth": 2,
            "linecolor": "white",
            "showbackground": true,
            "ticks": "",
            "zerolinecolor": "white"
           },
           "zaxis": {
            "backgroundcolor": "#E5ECF6",
            "gridcolor": "white",
            "gridwidth": 2,
            "linecolor": "white",
            "showbackground": true,
            "ticks": "",
            "zerolinecolor": "white"
           }
          },
          "shapedefaults": {
           "line": {
            "color": "#2a3f5f"
           }
          },
          "ternary": {
           "aaxis": {
            "gridcolor": "white",
            "linecolor": "white",
            "ticks": ""
           },
           "baxis": {
            "gridcolor": "white",
            "linecolor": "white",
            "ticks": ""
           },
           "bgcolor": "#E5ECF6",
           "caxis": {
            "gridcolor": "white",
            "linecolor": "white",
            "ticks": ""
           }
          },
          "title": {
           "x": 0.05
          },
          "xaxis": {
           "automargin": true,
           "gridcolor": "white",
           "linecolor": "white",
           "ticks": "",
           "title": {
            "standoff": 15
           },
           "zerolinecolor": "white",
           "zerolinewidth": 2
          },
          "yaxis": {
           "automargin": true,
           "gridcolor": "white",
           "linecolor": "white",
           "ticks": "",
           "title": {
            "standoff": 15
           },
           "zerolinecolor": "white",
           "zerolinewidth": 2
          }
         }
        },
        "xaxis": {
         "anchor": "y",
         "domain": [
          0,
          1
         ],
         "title": {
          "text": "Fully Vaccinated Percent"
         }
        },
        "yaxis": {
         "anchor": "x",
         "domain": [
          0,
          1
         ],
         "title": {
          "text": "COVID-19 cases per 100k population over 2-week period"
         }
        }
       }
      },
      "text/html": [
       "<div>                            <div id=\"02c02fb8-301b-4c49-996b-b1dedfa37f0d\" class=\"plotly-graph-div\" style=\"height:525px; width:100%;\"></div>            <script type=\"text/javascript\">                require([\"plotly\"], function(Plotly) {                    window.PLOTLYENV=window.PLOTLYENV || {};                                    if (document.getElementById(\"02c02fb8-301b-4c49-996b-b1dedfa37f0d\")) {                    Plotly.newPlot(                        \"02c02fb8-301b-4c49-996b-b1dedfa37f0d\",                        [{\"customdata\":[[\"Andover\"],[\"Ansonia\"],[\"Ashford\"],[\"Avon\"],[\"Avon\"],[\"Barkhamsted\"],[\"Beacon Falls\"],[\"Berlin\"],[\"Bethany\"],[\"Bethel\"],[\"Bethlehem\"],[\"Bloomfield\"],[\"Bolton\"],[\"Bozrah\"],[\"Branford\"],[\"Bridgeport\"],[\"Bristol\"],[\"Brookfield\"],[\"Brooklyn\"],[\"Burlington\"],[\"Canterbury\"],[\"Canton\"],[\"Chaplin\"],[\"Chaplin\"],[\"Cheshire\"],[\"Chester\"],[\"Clinton\"],[\"Colchester\"],[\"Colebrook\"],[\"Colebrook\"],[\"Columbia\"],[\"Columbia\"],[\"Cornwall\"],[\"Coventry\"],[\"Cromwell\"],[\"Danbury\"],[\"Darien\"],[\"Deep River\"],[\"Derby\"],[\"Durham\"],[\"East Granby\"],[\"East Haddam\"],[\"East Hampton\"],[\"East Hartford\"],[\"East Haven\"],[\"East Lyme\"],[\"East Windsor\"],[\"Eastford\"],[\"Easton\"],[\"Ellington\"],[\"Enfield\"],[\"Essex\"],[\"Fairfield\"],[\"Farmington\"],[\"Franklin\"],[\"Glastonbury\"],[\"Goshen\"],[\"Granby\"],[\"Greenwich\"],[\"Griswold\"],[\"Groton\"],[\"Guilford\"],[\"Haddam\"],[\"Hamden\"],[\"Hampton\"],[\"Hartford\"],[\"Hartland\"],[\"Harwinton\"],[\"Hebron\"],[\"Kent\"],[\"Killingly\"],[\"Killingworth\"],[\"Lebanon\"],[\"Ledyard\"],[\"Lisbon\"],[\"Litchfield\"],[\"Lyme\"],[\"Madison\"],[\"Manchester\"],[\"Mansfield\"],[\"Marlborough\"],[\"Meriden\"],[\"Middlebury\"],[\"Middlefield\"],[\"Middletown\"],[\"Milford\"],[\"Monroe\"],[\"Montville\"],[\"Morris\"],[\"Naugatuck\"],[\"New Britain\"],[\"New Canaan\"],[\"New Fairfield\"],[\"New Hartford\"],[\"New Haven\"],[\"New London\"],[\"New Milford\"],[\"Newington\"],[\"Newtown\"],[\"Norfolk\"],[\"North Branford\"],[\"North Canaan\"],[\"North Haven\"],[\"North Stonington\"],[\"Norwalk\"],[\"Norwich\"],[\"Old Lyme\"],[\"Old Saybrook\"],[\"Orange\"],[\"Oxford\"],[\"Plainfield\"],[\"Plainville\"],[\"Plymouth\"],[\"Pomfret\"],[\"Portland\"],[\"Preston\"],[\"Prospect\"],[\"Putnam\"],[\"Redding\"],[\"Ridgefield\"],[\"Rocky Hill\"],[\"Roxbury\"],[\"Salem\"],[\"Salisbury\"],[\"Scotland\"],[\"Seymour\"],[\"Sharon\"],[\"Shelton\"],[\"Sherman\"],[\"Simsbury\"],[\"Somers\"],[\"South Windsor\"],[\"Southbury\"],[\"Southington\"],[\"Sprague\"],[\"Stafford\"],[\"Stamford\"],[\"Sterling\"],[\"Stonington\"],[\"Stratford\"],[\"Suffield\"],[\"Thomaston\"],[\"Thompson\"],[\"Tolland\"],[\"Torrington\"],[\"Trumbull\"],[\"Union\"],[\"Vernon\"],[\"Voluntown\"],[\"Wallingford\"],[\"Warren\"],[\"Washington\"],[\"Waterbury\"],[\"Waterford\"],[\"Watertown\"],[\"West Hartford\"],[\"West Haven\"],[\"Westbrook\"],[\"Weston\"],[\"Westport\"],[\"Wethersfield\"],[\"Willington\"],[\"Wilton\"],[\"Winchester\"],[\"Windham\"],[\"Windsor\"],[\"Windsor Locks\"],[\"Wolcott\"],[\"Woodbridge\"],[\"Woodbury\"],[\"Woodstock\"]],\"hovertemplate\":\"Fully Vaccinated Percent=%{x}<br>COVID-19 cases per 100k population over 2-week period=%{y}<br>Town=%{customdata[0]}<extra></extra>\",\"legendgroup\":\"\",\"marker\":{\"color\":\"#636efa\",\"symbol\":\"circle\"},\"mode\":\"markers\",\"name\":\"\",\"orientation\":\"v\",\"showlegend\":false,\"type\":\"scatter\",\"x\":[62.36,50.17,58.82,75.53,75.53,63.2,58.95,64.8,64.85,58.78,58.52,64.14,64.64,54.84,69.34,46.72,58.93,66.02,50.6,64.71,52.0,66.81,53.06,53.06,70.04,66.27,70.14,62.78,64.07,64.07,62.47,62.47,76.51,61.59,71.8,59.42,69.71,68.96,63.58,67.63,66.25,58.94,62.18,56.74,56.11,68.94,54.88,53.18,66.91,61.18,53.4,73.73,65.1,74.68,59.11,72.43,64.34,64.1,64.83,49.67,52.75,72.99,70.29,59.96,55.16,42.54,53.16,61.77,65.03,76.38,48.7,67.55,59.85,59.13,56.18,65.23,80.4,74.07,59.25,34.17,65.51,56.97,67.15,64.95,65.65,64.06,64.28,54.28,59.63,54.85,46.22,70.63,59.32,62.53,51.95,51.55,65.29,67.43,66.16,60.86,67.84,52.41,74.69,54.58,64.09,52.94,71.79,78.8,68.17,61.71,47.89,59.9,50.97,58.67,66.56,58.25,61.17,49.79,62.26,68.83,68.56,72.07,59.91,83.67,50.18,58.52,62.29,62.8,58.82,70.19,55.04,70.6,68.87,65.97,50.37,50.14,65.52,40.56,65.59,57.86,59.3,56.75,42.25,66.18,58.69,69.37,56.97,62.74,54.66,67.24,64.16,72.55,46.97,68.06,62.27,73.23,56.71,68.38,69.85,68.43,70.94,55.06,72.01,53.18,48.61,64.97,58.58,58.97,73.07,65.32,57.3],\"xaxis\":\"x\",\"y\":[19.9,25.6,18.4,null,25.0,2.0,32.4,21.7,26.1,18.5,10.4,19.8,8.8,19.7,29.3,25.6,22.6,28.1,17.3,9.6,26.6,10.4,null,25.3,13.5,10.1,41.4,17.5,25.4,5.1,19.9,15.9,5.2,25.9,18.5,30.2,25.0,11.2,20.5,24.8,15.3,17.5,31.7,33.6,49.8,24.9,15.7,4.0,24.7,17.1,20.2,10.7,22.3,13.4,11.1,20.1,12.4,13.2,40.9,50.5,24.2,24.1,14.8,31.3,34.7,30.5,10.1,31.6,10.5,12.8,40.5,31.4,12.9,31.5,21.9,24.6,21.4,30.0,22.9,27.4,18.0,48.5,19.4,17.9,26.9,24.8,19.8,27.5,18.9,25.1,33.3,16.6,27.8,11.8,37.1,45.6,19.9,26.6,20.1,4.4,26.2,28.5,32.9,36.8,37.8,30.1,11.6,36.8,23.6,27.0,28.2,30.0,21.5,8.5,13.8,29.3,24.8,23.6,7.8,17.7,26.9,43.0,38.1,9.9,12.7,20.3,34.4,26.2,11.9,15.4,17.1,22.5,13.4,26.7,29.7,19.2,31.7,30.2,30.2,26.8,19.1,25.5,23.6,22.4,27.5,19.6,42.5,17.3,33.8,26.3,10.2,22.9,33.6,29.5,43.9,21.2,35.9,27.9,18.1,16.5,37.0,20.6,19.4,12.7,20.8,23.3,21.6,31.3,21.1,9.0,20.0],\"yaxis\":\"y\"}],                        {\"legend\":{\"tracegroupgap\":0},\"margin\":{\"t\":60},\"template\":{\"data\":{\"bar\":[{\"error_x\":{\"color\":\"#2a3f5f\"},\"error_y\":{\"color\":\"#2a3f5f\"},\"marker\":{\"line\":{\"color\":\"#E5ECF6\",\"width\":0.5},\"pattern\":{\"fillmode\":\"overlay\",\"size\":10,\"solidity\":0.2}},\"type\":\"bar\"}],\"barpolar\":[{\"marker\":{\"line\":{\"color\":\"#E5ECF6\",\"width\":0.5},\"pattern\":{\"fillmode\":\"overlay\",\"size\":10,\"solidity\":0.2}},\"type\":\"barpolar\"}],\"carpet\":[{\"aaxis\":{\"endlinecolor\":\"#2a3f5f\",\"gridcolor\":\"white\",\"linecolor\":\"white\",\"minorgridcolor\":\"white\",\"startlinecolor\":\"#2a3f5f\"},\"baxis\":{\"endlinecolor\":\"#2a3f5f\",\"gridcolor\":\"white\",\"linecolor\":\"white\",\"minorgridcolor\":\"white\",\"startlinecolor\":\"#2a3f5f\"},\"type\":\"carpet\"}],\"choropleth\":[{\"colorbar\":{\"outlinewidth\":0,\"ticks\":\"\"},\"type\":\"choropleth\"}],\"contour\":[{\"colorbar\":{\"outlinewidth\":0,\"ticks\":\"\"},\"colorscale\":[[0.0,\"#0d0887\"],[0.1111111111111111,\"#46039f\"],[0.2222222222222222,\"#7201a8\"],[0.3333333333333333,\"#9c179e\"],[0.4444444444444444,\"#bd3786\"],[0.5555555555555556,\"#d8576b\"],[0.6666666666666666,\"#ed7953\"],[0.7777777777777778,\"#fb9f3a\"],[0.8888888888888888,\"#fdca26\"],[1.0,\"#f0f921\"]],\"type\":\"contour\"}],\"contourcarpet\":[{\"colorbar\":{\"outlinewidth\":0,\"ticks\":\"\"},\"type\":\"contourcarpet\"}],\"heatmap\":[{\"colorbar\":{\"outlinewidth\":0,\"ticks\":\"\"},\"colorscale\":[[0.0,\"#0d0887\"],[0.1111111111111111,\"#46039f\"],[0.2222222222222222,\"#7201a8\"],[0.3333333333333333,\"#9c179e\"],[0.4444444444444444,\"#bd3786\"],[0.5555555555555556,\"#d8576b\"],[0.6666666666666666,\"#ed7953\"],[0.7777777777777778,\"#fb9f3a\"],[0.8888888888888888,\"#fdca26\"],[1.0,\"#f0f921\"]],\"type\":\"heatmap\"}],\"heatmapgl\":[{\"colorbar\":{\"outlinewidth\":0,\"ticks\":\"\"},\"colorscale\":[[0.0,\"#0d0887\"],[0.1111111111111111,\"#46039f\"],[0.2222222222222222,\"#7201a8\"],[0.3333333333333333,\"#9c179e\"],[0.4444444444444444,\"#bd3786\"],[0.5555555555555556,\"#d8576b\"],[0.6666666666666666,\"#ed7953\"],[0.7777777777777778,\"#fb9f3a\"],[0.8888888888888888,\"#fdca26\"],[1.0,\"#f0f921\"]],\"type\":\"heatmapgl\"}],\"histogram\":[{\"marker\":{\"pattern\":{\"fillmode\":\"overlay\",\"size\":10,\"solidity\":0.2}},\"type\":\"histogram\"}],\"histogram2d\":[{\"colorbar\":{\"outlinewidth\":0,\"ticks\":\"\"},\"colorscale\":[[0.0,\"#0d0887\"],[0.1111111111111111,\"#46039f\"],[0.2222222222222222,\"#7201a8\"],[0.3333333333333333,\"#9c179e\"],[0.4444444444444444,\"#bd3786\"],[0.5555555555555556,\"#d8576b\"],[0.6666666666666666,\"#ed7953\"],[0.7777777777777778,\"#fb9f3a\"],[0.8888888888888888,\"#fdca26\"],[1.0,\"#f0f921\"]],\"type\":\"histogram2d\"}],\"histogram2dcontour\":[{\"colorbar\":{\"outlinewidth\":0,\"ticks\":\"\"},\"colorscale\":[[0.0,\"#0d0887\"],[0.1111111111111111,\"#46039f\"],[0.2222222222222222,\"#7201a8\"],[0.3333333333333333,\"#9c179e\"],[0.4444444444444444,\"#bd3786\"],[0.5555555555555556,\"#d8576b\"],[0.6666666666666666,\"#ed7953\"],[0.7777777777777778,\"#fb9f3a\"],[0.8888888888888888,\"#fdca26\"],[1.0,\"#f0f921\"]],\"type\":\"histogram2dcontour\"}],\"mesh3d\":[{\"colorbar\":{\"outlinewidth\":0,\"ticks\":\"\"},\"type\":\"mesh3d\"}],\"parcoords\":[{\"line\":{\"colorbar\":{\"outlinewidth\":0,\"ticks\":\"\"}},\"type\":\"parcoords\"}],\"pie\":[{\"automargin\":true,\"type\":\"pie\"}],\"scatter\":[{\"marker\":{\"colorbar\":{\"outlinewidth\":0,\"ticks\":\"\"}},\"type\":\"scatter\"}],\"scatter3d\":[{\"line\":{\"colorbar\":{\"outlinewidth\":0,\"ticks\":\"\"}},\"marker\":{\"colorbar\":{\"outlinewidth\":0,\"ticks\":\"\"}},\"type\":\"scatter3d\"}],\"scattercarpet\":[{\"marker\":{\"colorbar\":{\"outlinewidth\":0,\"ticks\":\"\"}},\"type\":\"scattercarpet\"}],\"scattergeo\":[{\"marker\":{\"colorbar\":{\"outlinewidth\":0,\"ticks\":\"\"}},\"type\":\"scattergeo\"}],\"scattergl\":[{\"marker\":{\"colorbar\":{\"outlinewidth\":0,\"ticks\":\"\"}},\"type\":\"scattergl\"}],\"scattermapbox\":[{\"marker\":{\"colorbar\":{\"outlinewidth\":0,\"ticks\":\"\"}},\"type\":\"scattermapbox\"}],\"scatterpolar\":[{\"marker\":{\"colorbar\":{\"outlinewidth\":0,\"ticks\":\"\"}},\"type\":\"scatterpolar\"}],\"scatterpolargl\":[{\"marker\":{\"colorbar\":{\"outlinewidth\":0,\"ticks\":\"\"}},\"type\":\"scatterpolargl\"}],\"scatterternary\":[{\"marker\":{\"colorbar\":{\"outlinewidth\":0,\"ticks\":\"\"}},\"type\":\"scatterternary\"}],\"surface\":[{\"colorbar\":{\"outlinewidth\":0,\"ticks\":\"\"},\"colorscale\":[[0.0,\"#0d0887\"],[0.1111111111111111,\"#46039f\"],[0.2222222222222222,\"#7201a8\"],[0.3333333333333333,\"#9c179e\"],[0.4444444444444444,\"#bd3786\"],[0.5555555555555556,\"#d8576b\"],[0.6666666666666666,\"#ed7953\"],[0.7777777777777778,\"#fb9f3a\"],[0.8888888888888888,\"#fdca26\"],[1.0,\"#f0f921\"]],\"type\":\"surface\"}],\"table\":[{\"cells\":{\"fill\":{\"color\":\"#EBF0F8\"},\"line\":{\"color\":\"white\"}},\"header\":{\"fill\":{\"color\":\"#C8D4E3\"},\"line\":{\"color\":\"white\"}},\"type\":\"table\"}]},\"layout\":{\"annotationdefaults\":{\"arrowcolor\":\"#2a3f5f\",\"arrowhead\":0,\"arrowwidth\":1},\"autotypenumbers\":\"strict\",\"coloraxis\":{\"colorbar\":{\"outlinewidth\":0,\"ticks\":\"\"}},\"colorscale\":{\"diverging\":[[0,\"#8e0152\"],[0.1,\"#c51b7d\"],[0.2,\"#de77ae\"],[0.3,\"#f1b6da\"],[0.4,\"#fde0ef\"],[0.5,\"#f7f7f7\"],[0.6,\"#e6f5d0\"],[0.7,\"#b8e186\"],[0.8,\"#7fbc41\"],[0.9,\"#4d9221\"],[1,\"#276419\"]],\"sequential\":[[0.0,\"#0d0887\"],[0.1111111111111111,\"#46039f\"],[0.2222222222222222,\"#7201a8\"],[0.3333333333333333,\"#9c179e\"],[0.4444444444444444,\"#bd3786\"],[0.5555555555555556,\"#d8576b\"],[0.6666666666666666,\"#ed7953\"],[0.7777777777777778,\"#fb9f3a\"],[0.8888888888888888,\"#fdca26\"],[1.0,\"#f0f921\"]],\"sequentialminus\":[[0.0,\"#0d0887\"],[0.1111111111111111,\"#46039f\"],[0.2222222222222222,\"#7201a8\"],[0.3333333333333333,\"#9c179e\"],[0.4444444444444444,\"#bd3786\"],[0.5555555555555556,\"#d8576b\"],[0.6666666666666666,\"#ed7953\"],[0.7777777777777778,\"#fb9f3a\"],[0.8888888888888888,\"#fdca26\"],[1.0,\"#f0f921\"]]},\"colorway\":[\"#636efa\",\"#EF553B\",\"#00cc96\",\"#ab63fa\",\"#FFA15A\",\"#19d3f3\",\"#FF6692\",\"#B6E880\",\"#FF97FF\",\"#FECB52\"],\"font\":{\"color\":\"#2a3f5f\"},\"geo\":{\"bgcolor\":\"white\",\"lakecolor\":\"white\",\"landcolor\":\"#E5ECF6\",\"showlakes\":true,\"showland\":true,\"subunitcolor\":\"white\"},\"hoverlabel\":{\"align\":\"left\"},\"hovermode\":\"closest\",\"mapbox\":{\"style\":\"light\"},\"paper_bgcolor\":\"white\",\"plot_bgcolor\":\"#E5ECF6\",\"polar\":{\"angularaxis\":{\"gridcolor\":\"white\",\"linecolor\":\"white\",\"ticks\":\"\"},\"bgcolor\":\"#E5ECF6\",\"radialaxis\":{\"gridcolor\":\"white\",\"linecolor\":\"white\",\"ticks\":\"\"}},\"scene\":{\"xaxis\":{\"backgroundcolor\":\"#E5ECF6\",\"gridcolor\":\"white\",\"gridwidth\":2,\"linecolor\":\"white\",\"showbackground\":true,\"ticks\":\"\",\"zerolinecolor\":\"white\"},\"yaxis\":{\"backgroundcolor\":\"#E5ECF6\",\"gridcolor\":\"white\",\"gridwidth\":2,\"linecolor\":\"white\",\"showbackground\":true,\"ticks\":\"\",\"zerolinecolor\":\"white\"},\"zaxis\":{\"backgroundcolor\":\"#E5ECF6\",\"gridcolor\":\"white\",\"gridwidth\":2,\"linecolor\":\"white\",\"showbackground\":true,\"ticks\":\"\",\"zerolinecolor\":\"white\"}},\"shapedefaults\":{\"line\":{\"color\":\"#2a3f5f\"}},\"ternary\":{\"aaxis\":{\"gridcolor\":\"white\",\"linecolor\":\"white\",\"ticks\":\"\"},\"baxis\":{\"gridcolor\":\"white\",\"linecolor\":\"white\",\"ticks\":\"\"},\"bgcolor\":\"#E5ECF6\",\"caxis\":{\"gridcolor\":\"white\",\"linecolor\":\"white\",\"ticks\":\"\"}},\"title\":{\"x\":0.05},\"xaxis\":{\"automargin\":true,\"gridcolor\":\"white\",\"linecolor\":\"white\",\"ticks\":\"\",\"title\":{\"standoff\":15},\"zerolinecolor\":\"white\",\"zerolinewidth\":2},\"yaxis\":{\"automargin\":true,\"gridcolor\":\"white\",\"linecolor\":\"white\",\"ticks\":\"\",\"title\":{\"standoff\":15},\"zerolinecolor\":\"white\",\"zerolinewidth\":2}}},\"xaxis\":{\"anchor\":\"y\",\"domain\":[0.0,1.0],\"title\":{\"text\":\"Fully Vaccinated Percent\"}},\"yaxis\":{\"anchor\":\"x\",\"domain\":[0.0,1.0],\"title\":{\"text\":\"COVID-19 cases per 100k population over 2-week period\"}}},                        {\"responsive\": true}                    ).then(function(){\n",
       "                            \n",
       "var gd = document.getElementById('02c02fb8-301b-4c49-996b-b1dedfa37f0d');\n",
       "var x = new MutationObserver(function (mutations, observer) {{\n",
       "        var display = window.getComputedStyle(gd).display;\n",
       "        if (!display || display === 'none') {{\n",
       "            console.log([gd, 'removed!']);\n",
       "            Plotly.purge(gd);\n",
       "            observer.disconnect();\n",
       "        }}\n",
       "}});\n",
       "\n",
       "// Listen for the removal of the full notebook cells\n",
       "var notebookContainer = gd.closest('#notebook-container');\n",
       "if (notebookContainer) {{\n",
       "    x.observe(notebookContainer, {childList: true});\n",
       "}}\n",
       "\n",
       "// Listen for the clearing of the current output cell\n",
       "var outputEl = gd.closest('.output');\n",
       "if (outputEl) {{\n",
       "    x.observe(outputEl, {childList: true});\n",
       "}}\n",
       "\n",
       "                        })                };                });            </script>        </div>"
      ]
     },
     "metadata": {},
     "output_type": "display_data"
    }
   ],
   "source": [
    "fig = px.scatter(df_corr_recent_final, x=\"Fully Vaccinated Percent\", y=\"COVID-19 cases per 100k population over 2-week period\", hover_data=['Town'])\n",
    "fig.show()"
   ]
  },
  {
   "cell_type": "markdown",
   "id": "24f4c2d4",
   "metadata": {},
   "source": [
    "# Same analysis a month ago "
   ]
  },
  {
   "cell_type": "markdown",
   "id": "d922784b",
   "metadata": {},
   "source": [
    "This shows a stronger correlation as of a month ago"
   ]
  },
  {
   "cell_type": "code",
   "execution_count": 86,
   "id": "bb1e4ee7",
   "metadata": {},
   "outputs": [
    {
     "data": {
      "text/plain": [
       "(numpy.datetime64('2021-07-28T00:00:00.000000000'),\n",
       " numpy.datetime64('2021-07-28T00:00:00.000000000'))"
      ]
     },
     "execution_count": 86,
     "metadata": {},
     "output_type": "execute_result"
    }
   ],
   "source": [
    "df_cases['Date Updated'].unique()[-5],df_vaxx['Date Updated'].unique()[-4]"
   ]
  },
  {
   "cell_type": "code",
   "execution_count": 80,
   "id": "7f2d7e50",
   "metadata": {},
   "outputs": [],
   "source": [
    "df_vaxx_july = df_vaxx[df_vaxx['Date Updated'] == df_vaxx['Date Updated'].unique()[-4]]\n",
    "df_cases_july = df_cases[df_cases['Date Updated'] == df_cases['Date Updated'].unique()[-5]]\n",
    "df_corr_july = df_vaxx_july.merge(df_cases_july, left_on='Town', right_on='Town')"
   ]
  },
  {
   "cell_type": "code",
   "execution_count": 81,
   "id": "90e68e0c",
   "metadata": {},
   "outputs": [],
   "source": [
    "df_corr_july_final = df_corr_july[['Town','COVID-19 cases per 100k population over 2-week period','Fully Vaccinated Percent']]\n"
   ]
  },
  {
   "cell_type": "code",
   "execution_count": 82,
   "id": "b1d756e7",
   "metadata": {},
   "outputs": [
    {
     "data": {
      "text/html": [
       "<div>\n",
       "<style scoped>\n",
       "    .dataframe tbody tr th:only-of-type {\n",
       "        vertical-align: middle;\n",
       "    }\n",
       "\n",
       "    .dataframe tbody tr th {\n",
       "        vertical-align: top;\n",
       "    }\n",
       "\n",
       "    .dataframe thead th {\n",
       "        text-align: right;\n",
       "    }\n",
       "</style>\n",
       "<table border=\"1\" class=\"dataframe\">\n",
       "  <thead>\n",
       "    <tr style=\"text-align: right;\">\n",
       "      <th></th>\n",
       "      <th>COVID-19 cases per 100k population over 2-week period</th>\n",
       "      <th>Fully Vaccinated Percent</th>\n",
       "    </tr>\n",
       "  </thead>\n",
       "  <tbody>\n",
       "    <tr>\n",
       "      <th>COVID-19 cases per 100k population over 2-week period</th>\n",
       "      <td>1.000000</td>\n",
       "      <td>-0.426543</td>\n",
       "    </tr>\n",
       "    <tr>\n",
       "      <th>Fully Vaccinated Percent</th>\n",
       "      <td>-0.426543</td>\n",
       "      <td>1.000000</td>\n",
       "    </tr>\n",
       "  </tbody>\n",
       "</table>\n",
       "</div>"
      ],
      "text/plain": [
       "                                                    COVID-19 cases per 100k population over 2-week period  \\\n",
       "COVID-19 cases per 100k population over 2-week ...                                           1.000000       \n",
       "Fully Vaccinated Percent                                                                    -0.426543       \n",
       "\n",
       "                                                    Fully Vaccinated Percent  \n",
       "COVID-19 cases per 100k population over 2-week ...                 -0.426543  \n",
       "Fully Vaccinated Percent                                            1.000000  "
      ]
     },
     "execution_count": 82,
     "metadata": {},
     "output_type": "execute_result"
    }
   ],
   "source": [
    "df_corr_july_final.corr()"
   ]
  },
  {
   "cell_type": "code",
   "execution_count": 83,
   "id": "86dc5581",
   "metadata": {},
   "outputs": [],
   "source": [
    "df_corr_july_final = df_corr_july[['Town','COVID-19 cases per 100k population over 2-week period','Initiated Vaccination Percent']]\n"
   ]
  },
  {
   "cell_type": "code",
   "execution_count": 84,
   "id": "2e2c5e5d",
   "metadata": {},
   "outputs": [
    {
     "data": {
      "text/html": [
       "<div>\n",
       "<style scoped>\n",
       "    .dataframe tbody tr th:only-of-type {\n",
       "        vertical-align: middle;\n",
       "    }\n",
       "\n",
       "    .dataframe tbody tr th {\n",
       "        vertical-align: top;\n",
       "    }\n",
       "\n",
       "    .dataframe thead th {\n",
       "        text-align: right;\n",
       "    }\n",
       "</style>\n",
       "<table border=\"1\" class=\"dataframe\">\n",
       "  <thead>\n",
       "    <tr style=\"text-align: right;\">\n",
       "      <th></th>\n",
       "      <th>COVID-19 cases per 100k population over 2-week period</th>\n",
       "      <th>Initiated Vaccination Percent</th>\n",
       "    </tr>\n",
       "  </thead>\n",
       "  <tbody>\n",
       "    <tr>\n",
       "      <th>COVID-19 cases per 100k population over 2-week period</th>\n",
       "      <td>1.000000</td>\n",
       "      <td>-0.418065</td>\n",
       "    </tr>\n",
       "    <tr>\n",
       "      <th>Initiated Vaccination Percent</th>\n",
       "      <td>-0.418065</td>\n",
       "      <td>1.000000</td>\n",
       "    </tr>\n",
       "  </tbody>\n",
       "</table>\n",
       "</div>"
      ],
      "text/plain": [
       "                                                    COVID-19 cases per 100k population over 2-week period  \\\n",
       "COVID-19 cases per 100k population over 2-week ...                                           1.000000       \n",
       "Initiated Vaccination Percent                                                               -0.418065       \n",
       "\n",
       "                                                    Initiated Vaccination Percent  \n",
       "COVID-19 cases per 100k population over 2-week ...                      -0.418065  \n",
       "Initiated Vaccination Percent                                            1.000000  "
      ]
     },
     "execution_count": 84,
     "metadata": {},
     "output_type": "execute_result"
    }
   ],
   "source": [
    "df_corr_july_final.corr()"
   ]
  }
 ],
 "metadata": {
  "kernelspec": {
   "display_name": "Python 3",
   "language": "python",
   "name": "python3"
  },
  "language_info": {
   "codemirror_mode": {
    "name": "ipython",
    "version": 3
   },
   "file_extension": ".py",
   "mimetype": "text/x-python",
   "name": "python",
   "nbconvert_exporter": "python",
   "pygments_lexer": "ipython3",
   "version": "3.8.8"
  }
 },
 "nbformat": 4,
 "nbformat_minor": 5
}
